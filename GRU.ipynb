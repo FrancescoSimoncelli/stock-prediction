{
 "cells": [
  {
   "cell_type": "code",
   "execution_count": 1,
   "metadata": {
    "colab": {
     "base_uri": "https://localhost:8080/",
     "height": 35
    },
    "colab_type": "code",
    "id": "PY-hYc5LOLQF",
    "outputId": "30c7385b-c5c1-41ee-ef16-2ceef0845352"
   },
   "outputs": [
    {
     "name": "stdout",
     "output_type": "stream",
     "text": [
      "Mounted at /content/drive/\n"
     ]
    }
   ],
   "source": [
    "from google.colab import drive\n",
    "drive.mount('/content/drive/', force_remount=True)"
   ]
  },
  {
   "cell_type": "code",
   "execution_count": 2,
   "metadata": {
    "colab": {
     "base_uri": "https://localhost:8080/",
     "height": 35
    },
    "colab_type": "code",
    "id": "WgcLBUBiOQpB",
    "outputId": "033c56ce-fe8d-441a-febf-c57b10952c59"
   },
   "outputs": [
    {
     "data": {
      "text/plain": [
       "'./drive/My Drive/Colab Notebooks/MHK US Equity.xlxs'"
      ]
     },
     "execution_count": 2,
     "metadata": {
      "tags": []
     },
     "output_type": "execute_result"
    }
   ],
   "source": [
    "'./drive/My Drive/Colab Notebooks/MHK US Equity.xlxs'"
   ]
  },
  {
   "cell_type": "code",
   "execution_count": 5,
   "metadata": {
    "colab": {
     "base_uri": "https://localhost:8080/",
     "height": 322
    },
    "colab_type": "code",
    "id": "RKYuoWIaOYzC",
    "outputId": "dde782bf-4195-489b-c725-e78a9abeefe2"
   },
   "outputs": [
    {
     "data": {
      "text/html": [
       "<div>\n",
       "<style scoped>\n",
       "    .dataframe tbody tr th:only-of-type {\n",
       "        vertical-align: middle;\n",
       "    }\n",
       "\n",
       "    .dataframe tbody tr th {\n",
       "        vertical-align: top;\n",
       "    }\n",
       "\n",
       "    .dataframe thead th {\n",
       "        text-align: right;\n",
       "    }\n",
       "</style>\n",
       "<table border=\"1\" class=\"dataframe\">\n",
       "  <thead>\n",
       "    <tr style=\"text-align: right;\">\n",
       "      <th></th>\n",
       "      <th>DATA</th>\n",
       "      <th>PX_LAST</th>\n",
       "      <th>PX_ASK</th>\n",
       "      <th>PX_BID</th>\n",
       "      <th>NET_INCOME_MARGIN_ADJUSTED</th>\n",
       "      <th>WACC_COST_DEBT</th>\n",
       "      <th>BS_ST_BORROW</th>\n",
       "      <th>BS_LT_BORROW</th>\n",
       "      <th>IS_RD_EXPEND</th>\n",
       "      <th>PX_TO_BOOK_RATIO</th>\n",
       "      <th>IS_INT_EXPENSE</th>\n",
       "      <th>CF_FREE_CASH_FLOW</th>\n",
       "      <th>QUICK_RATIO</th>\n",
       "      <th>CUR_RATIO</th>\n",
       "      <th>WACC</th>\n",
       "      <th>WACC_COST_DEBT.1</th>\n",
       "      <th>WACC_COST_EQUITY</th>\n",
       "      <th>ROC_WACC_RATIO</th>\n",
       "      <th>BEST_NET_DEBT</th>\n",
       "      <th>NET_DEBT_TO_SHRHLDR_EQTY</th>\n",
       "      <th>NET_DEBT_%_CAPITAL</th>\n",
       "      <th>EBITDA</th>\n",
       "      <th>EBIT</th>\n",
       "      <th>BEST_NET_INCOME</th>\n",
       "      <th>EBITDA_TO_REVENUE</th>\n",
       "      <th>EBIT_TO_NET_SALES</th>\n",
       "      <th>BS_TOT_ASSET</th>\n",
       "      <th>SALES_REV_TURN</th>\n",
       "      <th>BEST_EST_PE_CUR_YR</th>\n",
       "      <th>BEST_PE_RATIO</th>\n",
       "      <th>CURR_ENTP_VAL</th>\n",
       "      <th>REVENUE_GROWTH_ADJUSTED_5Y_CAGR</th>\n",
       "      <th>SALES_GROWTH</th>\n",
       "      <th>EBITDA_GROWTH</th>\n",
       "      <th>GEO_GROW_EBITDA</th>\n",
       "      <th>NET_INC_GROWTH</th>\n",
       "      <th>GEO_GROW_NET_INC</th>\n",
       "      <th>BEST_EPS_NXT_YR</th>\n",
       "      <th>MOV_AVG_50D</th>\n",
       "      <th>MOV_AVG_200D</th>\n",
       "      <th>RSI_14D</th>\n",
       "      <th>RSI_30D</th>\n",
       "      <th>RSI_9D</th>\n",
       "      <th>PX_VOLUME</th>\n",
       "    </tr>\n",
       "  </thead>\n",
       "  <tbody>\n",
       "    <tr>\n",
       "      <th>0</th>\n",
       "      <td>2013-12-31</td>\n",
       "      <td>148.90</td>\n",
       "      <td>148.91</td>\n",
       "      <td>148.90</td>\n",
       "      <td>7.0948</td>\n",
       "      <td>3.3894</td>\n",
       "      <td>127.218</td>\n",
       "      <td>2132.79</td>\n",
       "      <td>0</td>\n",
       "      <td>2.4261</td>\n",
       "      <td>22.148</td>\n",
       "      <td>87.163</td>\n",
       "      <td>0.7979</td>\n",
       "      <td>2.3362</td>\n",
       "      <td>10.9074</td>\n",
       "      <td>3.3894</td>\n",
       "      <td>12.4772</td>\n",
       "      <td>0.58</td>\n",
       "      <td>0</td>\n",
       "      <td>49.3466</td>\n",
       "      <td>33.0416</td>\n",
       "      <td>237.317</td>\n",
       "      <td>150.988</td>\n",
       "      <td>0.0</td>\n",
       "      <td>12.3339</td>\n",
       "      <td>7.8472</td>\n",
       "      <td>8494.177</td>\n",
       "      <td>1924.104</td>\n",
       "      <td>0.0</td>\n",
       "      <td>0.0</td>\n",
       "      <td>13029.0296</td>\n",
       "      <td>0.0</td>\n",
       "      <td>34.0224</td>\n",
       "      <td>48.5664</td>\n",
       "      <td>0.0</td>\n",
       "      <td>42.5703</td>\n",
       "      <td>0.0</td>\n",
       "      <td>0.0</td>\n",
       "      <td>138.8840</td>\n",
       "      <td>123.2779</td>\n",
       "      <td>65.1380</td>\n",
       "      <td>65.1935</td>\n",
       "      <td>67.9928</td>\n",
       "      <td>533632</td>\n",
       "    </tr>\n",
       "    <tr>\n",
       "      <th>1</th>\n",
       "      <td>2014-01-01</td>\n",
       "      <td>148.90</td>\n",
       "      <td>148.91</td>\n",
       "      <td>148.90</td>\n",
       "      <td>7.0948</td>\n",
       "      <td>3.3894</td>\n",
       "      <td>127.218</td>\n",
       "      <td>2132.79</td>\n",
       "      <td>0</td>\n",
       "      <td>2.4261</td>\n",
       "      <td>22.148</td>\n",
       "      <td>87.163</td>\n",
       "      <td>0.7979</td>\n",
       "      <td>2.3362</td>\n",
       "      <td>10.9074</td>\n",
       "      <td>3.3894</td>\n",
       "      <td>12.4772</td>\n",
       "      <td>0.58</td>\n",
       "      <td>0</td>\n",
       "      <td>49.3466</td>\n",
       "      <td>33.0416</td>\n",
       "      <td>237.317</td>\n",
       "      <td>150.988</td>\n",
       "      <td>0.0</td>\n",
       "      <td>12.3339</td>\n",
       "      <td>7.8472</td>\n",
       "      <td>8494.177</td>\n",
       "      <td>1924.104</td>\n",
       "      <td>0.0</td>\n",
       "      <td>0.0</td>\n",
       "      <td>13029.0296</td>\n",
       "      <td>0.0</td>\n",
       "      <td>34.0224</td>\n",
       "      <td>48.5664</td>\n",
       "      <td>0.0</td>\n",
       "      <td>42.5703</td>\n",
       "      <td>0.0</td>\n",
       "      <td>0.0</td>\n",
       "      <td>138.8840</td>\n",
       "      <td>123.2779</td>\n",
       "      <td>65.1380</td>\n",
       "      <td>65.1935</td>\n",
       "      <td>67.9928</td>\n",
       "      <td>533632</td>\n",
       "    </tr>\n",
       "    <tr>\n",
       "      <th>2</th>\n",
       "      <td>2014-01-02</td>\n",
       "      <td>149.11</td>\n",
       "      <td>149.10</td>\n",
       "      <td>149.07</td>\n",
       "      <td>7.0948</td>\n",
       "      <td>3.3894</td>\n",
       "      <td>127.218</td>\n",
       "      <td>2132.79</td>\n",
       "      <td>0</td>\n",
       "      <td>2.4295</td>\n",
       "      <td>22.148</td>\n",
       "      <td>87.163</td>\n",
       "      <td>0.7979</td>\n",
       "      <td>2.3362</td>\n",
       "      <td>10.9074</td>\n",
       "      <td>3.3894</td>\n",
       "      <td>12.4772</td>\n",
       "      <td>0.58</td>\n",
       "      <td>0</td>\n",
       "      <td>49.3466</td>\n",
       "      <td>33.0416</td>\n",
       "      <td>237.317</td>\n",
       "      <td>150.988</td>\n",
       "      <td>0.0</td>\n",
       "      <td>12.3339</td>\n",
       "      <td>7.8472</td>\n",
       "      <td>8494.177</td>\n",
       "      <td>1924.104</td>\n",
       "      <td>0.0</td>\n",
       "      <td>0.0</td>\n",
       "      <td>13044.2809</td>\n",
       "      <td>0.0</td>\n",
       "      <td>34.0224</td>\n",
       "      <td>48.5664</td>\n",
       "      <td>0.0</td>\n",
       "      <td>42.5703</td>\n",
       "      <td>0.0</td>\n",
       "      <td>0.0</td>\n",
       "      <td>139.3660</td>\n",
       "      <td>123.4603</td>\n",
       "      <td>65.4500</td>\n",
       "      <td>65.3393</td>\n",
       "      <td>68.4927</td>\n",
       "      <td>676997</td>\n",
       "    </tr>\n",
       "    <tr>\n",
       "      <th>3</th>\n",
       "      <td>2014-01-03</td>\n",
       "      <td>149.45</td>\n",
       "      <td>149.48</td>\n",
       "      <td>149.47</td>\n",
       "      <td>7.0948</td>\n",
       "      <td>3.3894</td>\n",
       "      <td>127.218</td>\n",
       "      <td>2132.79</td>\n",
       "      <td>0</td>\n",
       "      <td>2.4351</td>\n",
       "      <td>22.148</td>\n",
       "      <td>87.163</td>\n",
       "      <td>0.7979</td>\n",
       "      <td>2.3362</td>\n",
       "      <td>10.9074</td>\n",
       "      <td>3.3894</td>\n",
       "      <td>12.4772</td>\n",
       "      <td>0.58</td>\n",
       "      <td>0</td>\n",
       "      <td>49.3466</td>\n",
       "      <td>33.0416</td>\n",
       "      <td>237.317</td>\n",
       "      <td>150.988</td>\n",
       "      <td>0.0</td>\n",
       "      <td>12.3339</td>\n",
       "      <td>7.8472</td>\n",
       "      <td>8494.177</td>\n",
       "      <td>1924.104</td>\n",
       "      <td>0.0</td>\n",
       "      <td>0.0</td>\n",
       "      <td>13068.9733</td>\n",
       "      <td>0.0</td>\n",
       "      <td>34.0224</td>\n",
       "      <td>48.5664</td>\n",
       "      <td>0.0</td>\n",
       "      <td>42.5703</td>\n",
       "      <td>0.0</td>\n",
       "      <td>0.0</td>\n",
       "      <td>139.8022</td>\n",
       "      <td>123.6346</td>\n",
       "      <td>65.9809</td>\n",
       "      <td>65.5808</td>\n",
       "      <td>69.3643</td>\n",
       "      <td>521291</td>\n",
       "    </tr>\n",
       "    <tr>\n",
       "      <th>4</th>\n",
       "      <td>2014-01-06</td>\n",
       "      <td>147.34</td>\n",
       "      <td>147.40</td>\n",
       "      <td>147.36</td>\n",
       "      <td>7.0948</td>\n",
       "      <td>3.3894</td>\n",
       "      <td>127.218</td>\n",
       "      <td>2132.79</td>\n",
       "      <td>0</td>\n",
       "      <td>2.4007</td>\n",
       "      <td>22.148</td>\n",
       "      <td>87.163</td>\n",
       "      <td>0.7979</td>\n",
       "      <td>2.3362</td>\n",
       "      <td>10.9074</td>\n",
       "      <td>3.3894</td>\n",
       "      <td>12.4772</td>\n",
       "      <td>0.58</td>\n",
       "      <td>0</td>\n",
       "      <td>49.3466</td>\n",
       "      <td>33.0416</td>\n",
       "      <td>237.317</td>\n",
       "      <td>150.988</td>\n",
       "      <td>0.0</td>\n",
       "      <td>12.3339</td>\n",
       "      <td>7.8472</td>\n",
       "      <td>8494.177</td>\n",
       "      <td>1924.104</td>\n",
       "      <td>0.0</td>\n",
       "      <td>0.0</td>\n",
       "      <td>12915.7349</td>\n",
       "      <td>0.0</td>\n",
       "      <td>34.0224</td>\n",
       "      <td>48.5664</td>\n",
       "      <td>0.0</td>\n",
       "      <td>42.5703</td>\n",
       "      <td>0.0</td>\n",
       "      <td>0.0</td>\n",
       "      <td>140.1838</td>\n",
       "      <td>123.8148</td>\n",
       "      <td>59.8358</td>\n",
       "      <td>62.7730</td>\n",
       "      <td>58.1367</td>\n",
       "      <td>470527</td>\n",
       "    </tr>\n",
       "  </tbody>\n",
       "</table>\n",
       "</div>"
      ],
      "text/plain": [
       "        DATA  PX_LAST  PX_ASK  PX_BID  ...  RSI_14D  RSI_30D   RSI_9D  PX_VOLUME\n",
       "0 2013-12-31   148.90  148.91  148.90  ...  65.1380  65.1935  67.9928     533632\n",
       "1 2014-01-01   148.90  148.91  148.90  ...  65.1380  65.1935  67.9928     533632\n",
       "2 2014-01-02   149.11  149.10  149.07  ...  65.4500  65.3393  68.4927     676997\n",
       "3 2014-01-03   149.45  149.48  149.47  ...  65.9809  65.5808  69.3643     521291\n",
       "4 2014-01-06   147.34  147.40  147.36  ...  59.8358  62.7730  58.1367     470527\n",
       "\n",
       "[5 rows x 44 columns]"
      ]
     },
     "execution_count": 5,
     "metadata": {
      "tags": []
     },
     "output_type": "execute_result"
    }
   ],
   "source": [
    "df = pd.read_excel(r'./drive/My Drive/Colab Notebooks/MHK US Equity.xlsx')\n",
    "df_ori = pd.to_datetime(df.iloc[:, 0]).tolist()\n",
    "df.head()"
   ]
  },
  {
   "cell_type": "code",
   "execution_count": 4,
   "metadata": {
    "colab": {
     "base_uri": "https://localhost:8080/",
     "height": 286
    },
    "colab_type": "code",
    "id": "Ny3nhepTOb1r",
    "outputId": "7e1b802f-6797-4bd6-9c9d-dc6b40cad551"
   },
   "outputs": [
    {
     "name": "stderr",
     "output_type": "stream",
     "text": [
      "/usr/local/lib/python3.6/dist-packages/tensorflow/python/framework/dtypes.py:526: FutureWarning: Passing (type, 1) or '1type' as a synonym of type is deprecated; in a future version of numpy, it will be understood as (type, (1,)) / '(1,)type'.\n",
      "  _np_qint8 = np.dtype([(\"qint8\", np.int8, 1)])\n",
      "/usr/local/lib/python3.6/dist-packages/tensorflow/python/framework/dtypes.py:527: FutureWarning: Passing (type, 1) or '1type' as a synonym of type is deprecated; in a future version of numpy, it will be understood as (type, (1,)) / '(1,)type'.\n",
      "  _np_quint8 = np.dtype([(\"quint8\", np.uint8, 1)])\n",
      "/usr/local/lib/python3.6/dist-packages/tensorflow/python/framework/dtypes.py:528: FutureWarning: Passing (type, 1) or '1type' as a synonym of type is deprecated; in a future version of numpy, it will be understood as (type, (1,)) / '(1,)type'.\n",
      "  _np_qint16 = np.dtype([(\"qint16\", np.int16, 1)])\n",
      "/usr/local/lib/python3.6/dist-packages/tensorflow/python/framework/dtypes.py:529: FutureWarning: Passing (type, 1) or '1type' as a synonym of type is deprecated; in a future version of numpy, it will be understood as (type, (1,)) / '(1,)type'.\n",
      "  _np_quint16 = np.dtype([(\"quint16\", np.uint16, 1)])\n",
      "/usr/local/lib/python3.6/dist-packages/tensorflow/python/framework/dtypes.py:530: FutureWarning: Passing (type, 1) or '1type' as a synonym of type is deprecated; in a future version of numpy, it will be understood as (type, (1,)) / '(1,)type'.\n",
      "  _np_qint32 = np.dtype([(\"qint32\", np.int32, 1)])\n",
      "/usr/local/lib/python3.6/dist-packages/tensorflow/python/framework/dtypes.py:535: FutureWarning: Passing (type, 1) or '1type' as a synonym of type is deprecated; in a future version of numpy, it will be understood as (type, (1,)) / '(1,)type'.\n",
      "  np_resource = np.dtype([(\"resource\", np.ubyte, 1)])\n",
      "/usr/local/lib/python3.6/dist-packages/statsmodels/tools/_testing.py:19: FutureWarning: pandas.util.testing is deprecated. Use the functions in the public API at pandas.testing instead.\n",
      "  import pandas.util.testing as tm\n"
     ]
    }
   ],
   "source": [
    "import sys\n",
    "import warnings\n",
    "\n",
    "if not sys.warnoptions:\n",
    "    warnings.simplefilter('ignore')\n",
    "\n",
    "from __future__ import print_function, division\n",
    "from tensorflow.contrib import rnn\n",
    "import numpy as np\n",
    "import tensorflow as tf\n",
    "import matplotlib.pyplot as plt\n",
    "import numpy as np\n",
    "import matplotlib.pyplot as plt\n",
    "import seaborn as sns\n",
    "import pandas as pd\n",
    "from sklearn.preprocessing import MinMaxScaler\n",
    "from datetime import datetime\n",
    "from datetime import timedelta\n",
    "from tqdm import tqdm\n",
    "sns.set()"
   ]
  },
  {
   "cell_type": "code",
   "execution_count": 6,
   "metadata": {
    "colab": {
     "base_uri": "https://localhost:8080/",
     "height": 206
    },
    "colab_type": "code",
    "id": "DlFfFxHTPA1O",
    "outputId": "11c43323-03b6-4ca7-bc37-b5dc216d0b88"
   },
   "outputs": [
    {
     "data": {
      "text/html": [
       "<div>\n",
       "<style scoped>\n",
       "    .dataframe tbody tr th:only-of-type {\n",
       "        vertical-align: middle;\n",
       "    }\n",
       "\n",
       "    .dataframe tbody tr th {\n",
       "        vertical-align: top;\n",
       "    }\n",
       "\n",
       "    .dataframe thead th {\n",
       "        text-align: right;\n",
       "    }\n",
       "</style>\n",
       "<table border=\"1\" class=\"dataframe\">\n",
       "  <thead>\n",
       "    <tr style=\"text-align: right;\">\n",
       "      <th></th>\n",
       "      <th>0</th>\n",
       "    </tr>\n",
       "  </thead>\n",
       "  <tbody>\n",
       "    <tr>\n",
       "      <th>0</th>\n",
       "      <td>0.216807</td>\n",
       "    </tr>\n",
       "    <tr>\n",
       "      <th>1</th>\n",
       "      <td>0.216807</td>\n",
       "    </tr>\n",
       "    <tr>\n",
       "      <th>2</th>\n",
       "      <td>0.217788</td>\n",
       "    </tr>\n",
       "    <tr>\n",
       "      <th>3</th>\n",
       "      <td>0.220095</td>\n",
       "    </tr>\n",
       "    <tr>\n",
       "      <th>4</th>\n",
       "      <td>0.207925</td>\n",
       "    </tr>\n",
       "  </tbody>\n",
       "</table>\n",
       "</div>"
      ],
      "text/plain": [
       "          0\n",
       "0  0.216807\n",
       "1  0.216807\n",
       "2  0.217788\n",
       "3  0.220095\n",
       "4  0.207925"
      ]
     },
     "execution_count": 6,
     "metadata": {
      "tags": []
     },
     "output_type": "execute_result"
    }
   ],
   "source": [
    "minmax = MinMaxScaler().fit(df.iloc[:, 3:4].astype('float32')) # Close index\n",
    "df_log = minmax.transform(df.iloc[:, 3:4].astype('float32')) # Close index\n",
    "df_log = pd.DataFrame(df_log)\n",
    "df_log.head()"
   ]
  },
  {
   "cell_type": "code",
   "execution_count": 7,
   "metadata": {
    "colab": {
     "base_uri": "https://localhost:8080/",
     "height": 35
    },
    "colab_type": "code",
    "id": "VZGhE2_oP3Sn",
    "outputId": "0b5c477c-caad-4796-ba7c-88bae7c39ebf"
   },
   "outputs": [
    {
     "data": {
      "text/plain": [
       "((1434, 44), (1404, 1), (30, 1))"
      ]
     },
     "execution_count": 7,
     "metadata": {
      "tags": []
     },
     "output_type": "execute_result"
    }
   ],
   "source": [
    "test_size = 30\n",
    "simulation_size = 10\n",
    "\n",
    "df_train = df_log.iloc[:-test_size]\n",
    "df_test = df_log.iloc[-test_size:]\n",
    "df.shape, df_train.shape, df_test.shape"
   ]
  },
  {
   "cell_type": "code",
   "execution_count": 0,
   "metadata": {
    "colab": {},
    "colab_type": "code",
    "id": "g2f3WezkQb5T"
   },
   "outputs": [],
   "source": [
    "class Model:\n",
    "    def __init__(\n",
    "        self,\n",
    "        learning_rate,\n",
    "        num_layers,\n",
    "        size,\n",
    "        size_layer,\n",
    "        output_size,\n",
    "        forget_bias = 0.1,\n",
    "    ):\n",
    "        def lstm_cell(size_layer):\n",
    "            return tf.contrib.rnn.GRUCell(size_layer)\n",
    "\n",
    "        rnn_cells = tf.contrib.rnn.MultiRNNCell(\n",
    "            [lstm_cell(size_layer) for _ in range(num_layers)],\n",
    "            state_is_tuple = False,\n",
    "        )\n",
    "        self.X = tf.placeholder(tf.float32, (None, None, size))\n",
    "        self.Y = tf.placeholder(tf.float32, (None, output_size))\n",
    "        drop = tf.contrib.rnn.DropoutWrapper(\n",
    "            rnn_cells, output_keep_prob = forget_bias\n",
    "        )\n",
    "        self.hidden_layer = tf.placeholder(\n",
    "            tf.float32, (None, num_layers * size_layer)\n",
    "        )\n",
    "        self.outputs, self.last_state = tf.nn.dynamic_rnn(\n",
    "            drop, self.X, initial_state = self.hidden_layer, dtype = tf.float32\n",
    "        )\n",
    "        self.logits = tf.layers.dense(self.outputs[-1], output_size)\n",
    "        self.cost = tf.reduce_mean(tf.square(self.Y - self.logits))\n",
    "        self.optimizer = tf.train.AdamOptimizer(learning_rate).minimize(\n",
    "            self.cost\n",
    "        )\n",
    "        \n",
    "def calculate_accuracy(real, predict):\n",
    "    real = np.array(real) + 1\n",
    "    predict = np.array(predict) + 1\n",
    "    percentage = 1 - np.sqrt(np.mean(np.square((real - predict) / real)))\n",
    "    return percentage * 100\n",
    "\n",
    "def anchor(signal, weight):\n",
    "    buffer = []\n",
    "    last = signal[0]\n",
    "    for i in signal:\n",
    "        smoothed_val = last * weight + (1 - weight) * i\n",
    "        buffer.append(smoothed_val)\n",
    "        last = smoothed_val\n",
    "    return buffer"
   ]
  },
  {
   "cell_type": "code",
   "execution_count": 0,
   "metadata": {
    "colab": {},
    "colab_type": "code",
    "id": "_CnnJrFnR3xC"
   },
   "outputs": [],
   "source": [
    "num_layers = 1\n",
    "size_layer = 128\n",
    "timestamp = 5\n",
    "epoch = 300\n",
    "dropout_rate = 0.8\n",
    "future_day = test_size\n",
    "learning_rate = 0.01"
   ]
  },
  {
   "cell_type": "code",
   "execution_count": 0,
   "metadata": {
    "colab": {},
    "colab_type": "code",
    "id": "Ef0eOXJDR7U7"
   },
   "outputs": [],
   "source": [
    "def forecast():\n",
    "    tf.reset_default_graph()\n",
    "    modelnn = Model(\n",
    "        learning_rate, num_layers, df_log.shape[1], size_layer, df_log.shape[1], dropout_rate\n",
    "    )\n",
    "    sess = tf.InteractiveSession()\n",
    "    sess.run(tf.global_variables_initializer())\n",
    "    date_ori = pd.to_datetime(df.iloc[:, 0]).tolist()\n",
    "\n",
    "    pbar = tqdm(range(epoch), desc = 'train loop')\n",
    "    for i in pbar:\n",
    "        init_value = np.zeros((1, num_layers * size_layer))\n",
    "        total_loss, total_acc = [], []\n",
    "        for k in range(0, df_train.shape[0] - 1, timestamp):\n",
    "            index = min(k + timestamp, df_train.shape[0] - 1)\n",
    "            batch_x = np.expand_dims(\n",
    "                df_train.iloc[k : index, :].values, axis = 0\n",
    "            )\n",
    "            batch_y = df_train.iloc[k + 1 : index + 1, :].values\n",
    "            logits, last_state, _, loss = sess.run(\n",
    "                [modelnn.logits, modelnn.last_state, modelnn.optimizer, modelnn.cost],\n",
    "                feed_dict = {\n",
    "                    modelnn.X: batch_x,\n",
    "                    modelnn.Y: batch_y,\n",
    "                    modelnn.hidden_layer: init_value,\n",
    "                },\n",
    "            )        \n",
    "            init_value = last_state\n",
    "            total_loss.append(loss)\n",
    "            total_acc.append(calculate_accuracy(batch_y[:, 0], logits[:, 0]))\n",
    "        pbar.set_postfix(cost = np.mean(total_loss), acc = np.mean(total_acc))\n",
    "    \n",
    "    future_day = test_size\n",
    "\n",
    "    output_predict = np.zeros((df_train.shape[0] + future_day, df_train.shape[1]))\n",
    "    output_predict[0] = df_train.iloc[0]\n",
    "    upper_b = (df_train.shape[0] // timestamp) * timestamp\n",
    "    init_value = np.zeros((1, num_layers * size_layer))\n",
    "\n",
    "    for k in range(0, (df_train.shape[0] // timestamp) * timestamp, timestamp):\n",
    "        out_logits, last_state = sess.run(\n",
    "            [modelnn.logits, modelnn.last_state],\n",
    "            feed_dict = {\n",
    "                modelnn.X: np.expand_dims(\n",
    "                    df_train.iloc[k : k + timestamp], axis = 0\n",
    "                ),\n",
    "                modelnn.hidden_layer: init_value,\n",
    "            },\n",
    "        )\n",
    "        init_value = last_state\n",
    "        output_predict[k + 1 : k + timestamp + 1] = out_logits\n",
    "\n",
    "    if upper_b != df_train.shape[0]:\n",
    "        out_logits, last_state = sess.run(\n",
    "            [modelnn.logits, modelnn.last_state],\n",
    "            feed_dict = {\n",
    "                modelnn.X: np.expand_dims(df_train.iloc[upper_b:], axis = 0),\n",
    "                modelnn.hidden_layer: init_value,\n",
    "            },\n",
    "        )\n",
    "        output_predict[upper_b + 1 : df_train.shape[0] + 1] = out_logits\n",
    "        future_day -= 1\n",
    "        date_ori.append(date_ori[-1] + timedelta(days = 1))\n",
    "\n",
    "    init_value = last_state\n",
    "    \n",
    "    for i in range(future_day):\n",
    "        o = output_predict[-future_day - timestamp + i:-future_day + i]\n",
    "        out_logits, last_state = sess.run(\n",
    "            [modelnn.logits, modelnn.last_state],\n",
    "            feed_dict = {\n",
    "                modelnn.X: np.expand_dims(o, axis = 0),\n",
    "                modelnn.hidden_layer: init_value,\n",
    "            },\n",
    "        )\n",
    "        init_value = last_state\n",
    "        output_predict[-future_day + i] = out_logits[-1]\n",
    "        date_ori.append(date_ori[-1] + timedelta(days = 1))\n",
    "    \n",
    "    output_predict = minmax.inverse_transform(output_predict)\n",
    "    deep_future = anchor(output_predict[:, 0], 0.3)\n",
    "    \n",
    "    return deep_future[-test_size:]"
   ]
  },
  {
   "cell_type": "code",
   "execution_count": 11,
   "metadata": {
    "colab": {
     "base_uri": "https://localhost:8080/",
     "height": 1000
    },
    "colab_type": "code",
    "id": "mPlAFWrkSN6X",
    "outputId": "08742a89-b729-49f1-ae57-6188982456aa"
   },
   "outputs": [
    {
     "name": "stdout",
     "output_type": "stream",
     "text": [
      "simulation 1\n",
      "WARNING:tensorflow:From <ipython-input-8-2b7df7139335>:12: GRUCell.__init__ (from tensorflow.python.ops.rnn_cell_impl) is deprecated and will be removed in a future version.\n",
      "Instructions for updating:\n",
      "This class is equivalent as tf.keras.layers.GRUCell, and will be replaced by that in Tensorflow 2.0.\n",
      "WARNING:tensorflow:From <ipython-input-8-2b7df7139335>:16: MultiRNNCell.__init__ (from tensorflow.python.ops.rnn_cell_impl) is deprecated and will be removed in a future version.\n",
      "Instructions for updating:\n",
      "This class is equivalent as tf.keras.layers.StackedRNNCells, and will be replaced by that in Tensorflow 2.0.\n",
      "WARNING:tensorflow:From <ipython-input-8-2b7df7139335>:27: dynamic_rnn (from tensorflow.python.ops.rnn) is deprecated and will be removed in a future version.\n",
      "Instructions for updating:\n",
      "Please use `keras.layers.RNN(cell)`, which is equivalent to this API\n",
      "WARNING:tensorflow:From /usr/local/lib/python3.6/dist-packages/tensorflow/python/ops/tensor_array_ops.py:162: colocate_with (from tensorflow.python.framework.ops) is deprecated and will be removed in a future version.\n",
      "Instructions for updating:\n",
      "Colocations handled automatically by placer.\n",
      "WARNING:tensorflow:From /usr/local/lib/python3.6/dist-packages/tensorflow/python/ops/rnn_cell_impl.py:1259: calling dropout (from tensorflow.python.ops.nn_ops) with keep_prob is deprecated and will be removed in a future version.\n",
      "Instructions for updating:\n",
      "Please use `rate` instead of `keep_prob`. Rate should be set to `rate = 1 - keep_prob`.\n",
      "WARNING:tensorflow:From <ipython-input-8-2b7df7139335>:29: dense (from tensorflow.python.layers.core) is deprecated and will be removed in a future version.\n",
      "Instructions for updating:\n",
      "Use keras.layers.dense instead.\n"
     ]
    },
    {
     "name": "stderr",
     "output_type": "stream",
     "text": [
      "train loop: 100%|██████████| 300/300 [03:58<00:00,  1.26it/s, acc=97.4, cost=0.00179]\n"
     ]
    },
    {
     "name": "stdout",
     "output_type": "stream",
     "text": [
      "simulation 2\n"
     ]
    },
    {
     "name": "stderr",
     "output_type": "stream",
     "text": [
      "/usr/local/lib/python3.6/dist-packages/tensorflow/python/client/session.py:1702: UserWarning: An interactive session is already active. This can cause out-of-memory errors in some cases. You must explicitly call `InteractiveSession.close()` to release resources held by the other session(s).\n",
      "  warnings.warn('An interactive session is already active. This can '\n",
      "train loop: 100%|██████████| 300/300 [04:02<00:00,  1.24it/s, acc=90.4, cost=0.0229]\n"
     ]
    },
    {
     "name": "stdout",
     "output_type": "stream",
     "text": [
      "simulation 3\n"
     ]
    },
    {
     "name": "stderr",
     "output_type": "stream",
     "text": [
      "/usr/local/lib/python3.6/dist-packages/tensorflow/python/client/session.py:1702: UserWarning: An interactive session is already active. This can cause out-of-memory errors in some cases. You must explicitly call `InteractiveSession.close()` to release resources held by the other session(s).\n",
      "  warnings.warn('An interactive session is already active. This can '\n",
      "train loop: 100%|██████████| 300/300 [04:04<00:00,  1.23it/s, acc=97.6, cost=0.00157]\n"
     ]
    },
    {
     "name": "stdout",
     "output_type": "stream",
     "text": [
      "simulation 4\n"
     ]
    },
    {
     "name": "stderr",
     "output_type": "stream",
     "text": [
      "/usr/local/lib/python3.6/dist-packages/tensorflow/python/client/session.py:1702: UserWarning: An interactive session is already active. This can cause out-of-memory errors in some cases. You must explicitly call `InteractiveSession.close()` to release resources held by the other session(s).\n",
      "  warnings.warn('An interactive session is already active. This can '\n",
      "train loop: 100%|██████████| 300/300 [04:02<00:00,  1.24it/s, acc=97.4, cost=0.00177]\n"
     ]
    },
    {
     "name": "stdout",
     "output_type": "stream",
     "text": [
      "simulation 5\n"
     ]
    },
    {
     "name": "stderr",
     "output_type": "stream",
     "text": [
      "/usr/local/lib/python3.6/dist-packages/tensorflow/python/client/session.py:1702: UserWarning: An interactive session is already active. This can cause out-of-memory errors in some cases. You must explicitly call `InteractiveSession.close()` to release resources held by the other session(s).\n",
      "  warnings.warn('An interactive session is already active. This can '\n",
      "train loop: 100%|██████████| 300/300 [04:05<00:00,  1.22it/s, acc=93.9, cost=0.00866]\n"
     ]
    },
    {
     "name": "stdout",
     "output_type": "stream",
     "text": [
      "simulation 6\n"
     ]
    },
    {
     "name": "stderr",
     "output_type": "stream",
     "text": [
      "/usr/local/lib/python3.6/dist-packages/tensorflow/python/client/session.py:1702: UserWarning: An interactive session is already active. This can cause out-of-memory errors in some cases. You must explicitly call `InteractiveSession.close()` to release resources held by the other session(s).\n",
      "  warnings.warn('An interactive session is already active. This can '\n",
      "train loop: 100%|██████████| 300/300 [04:02<00:00,  1.24it/s, acc=97, cost=0.0024]\n"
     ]
    },
    {
     "name": "stdout",
     "output_type": "stream",
     "text": [
      "simulation 7\n"
     ]
    },
    {
     "name": "stderr",
     "output_type": "stream",
     "text": [
      "/usr/local/lib/python3.6/dist-packages/tensorflow/python/client/session.py:1702: UserWarning: An interactive session is already active. This can cause out-of-memory errors in some cases. You must explicitly call `InteractiveSession.close()` to release resources held by the other session(s).\n",
      "  warnings.warn('An interactive session is already active. This can '\n",
      "train loop: 100%|██████████| 300/300 [04:05<00:00,  1.22it/s, acc=95, cost=0.00656]\n"
     ]
    },
    {
     "name": "stdout",
     "output_type": "stream",
     "text": [
      "simulation 8\n"
     ]
    },
    {
     "name": "stderr",
     "output_type": "stream",
     "text": [
      "/usr/local/lib/python3.6/dist-packages/tensorflow/python/client/session.py:1702: UserWarning: An interactive session is already active. This can cause out-of-memory errors in some cases. You must explicitly call `InteractiveSession.close()` to release resources held by the other session(s).\n",
      "  warnings.warn('An interactive session is already active. This can '\n",
      "train loop: 100%|██████████| 300/300 [04:09<00:00,  1.20it/s, acc=97.1, cost=0.00231]\n"
     ]
    },
    {
     "name": "stdout",
     "output_type": "stream",
     "text": [
      "simulation 9\n"
     ]
    },
    {
     "name": "stderr",
     "output_type": "stream",
     "text": [
      "/usr/local/lib/python3.6/dist-packages/tensorflow/python/client/session.py:1702: UserWarning: An interactive session is already active. This can cause out-of-memory errors in some cases. You must explicitly call `InteractiveSession.close()` to release resources held by the other session(s).\n",
      "  warnings.warn('An interactive session is already active. This can '\n",
      "train loop: 100%|██████████| 300/300 [04:07<00:00,  1.21it/s, acc=96.8, cost=0.00248]\n"
     ]
    },
    {
     "name": "stdout",
     "output_type": "stream",
     "text": [
      "simulation 10\n"
     ]
    },
    {
     "name": "stderr",
     "output_type": "stream",
     "text": [
      "/usr/local/lib/python3.6/dist-packages/tensorflow/python/client/session.py:1702: UserWarning: An interactive session is already active. This can cause out-of-memory errors in some cases. You must explicitly call `InteractiveSession.close()` to release resources held by the other session(s).\n",
      "  warnings.warn('An interactive session is already active. This can '\n",
      "train loop: 100%|██████████| 300/300 [04:05<00:00,  1.22it/s, acc=97.4, cost=0.00187]\n"
     ]
    }
   ],
   "source": [
    "results = []\n",
    "for i in range(simulation_size):\n",
    "    print('simulation %d'%(i + 1))\n",
    "    results.append(forecast())"
   ]
  },
  {
   "cell_type": "code",
   "execution_count": 12,
   "metadata": {
    "colab": {
     "base_uri": "https://localhost:8080/",
     "height": 338
    },
    "colab_type": "code",
    "id": "ROvY6opTSSfj",
    "outputId": "acb17780-042e-4504-b8d1-9d68f2b093c4"
   },
   "outputs": [
    {
     "data": {
      "image/png": "[encoded data removed]",
      "text/plain": [
       "<Figure size 1080x360 with 1 Axes>"
      ]
     },
     "metadata": {
      "tags": []
     },
     "output_type": "display_data"
    }
   ],
   "source": [
    "accuracies = [calculate_accuracy(df['PX_LAST'].iloc[-test_size:].values, r) for r in results]\n",
    "\n",
    "plt.figure(figsize = (15, 5))\n",
    "for no, r in enumerate(results):\n",
    "    plt.plot(r, label = 'forecast %d'%(no + 1))\n",
    "plt.plot(df['PX_LAST'].iloc[-test_size:].values, label = 'true trend', c = 'black')\n",
    "plt.legend()\n",
    "plt.title('average accuracy: %.4f'%(np.mean(accuracies)))\n",
    "plt.show()"
   ]
  },
  {
   "cell_type": "code",
   "execution_count": 0,
   "metadata": {
    "colab": {},
    "colab_type": "code",
    "id": "Hk4Xy6PbdIUQ"
   },
   "outputs": [],
   "source": []
  }
 ],
 "metadata": {
  "colab": {
   "collapsed_sections": [],
   "name": "Welcome To Colaboratory",
   "provenance": [],
   "toc_visible": true
  },
  "kernelspec": {
   "display_name": "Python 3",
   "language": "python",
   "name": "python3"
  },
  "language_info": {
   "codemirror_mode": {
    "name": "ipython",
    "version": 3
   },
   "file_extension": ".py",
   "mimetype": "text/x-python",
   "name": "python",
   "nbconvert_exporter": "python",
   "pygments_lexer": "ipython3",
   "version": "3.7.3"
  }
 },
 "nbformat": 4,
 "nbformat_minor": 1
}
