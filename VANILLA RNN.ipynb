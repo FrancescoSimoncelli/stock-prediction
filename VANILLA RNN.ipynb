{
  "nbformat": 4,
  "nbformat_minor": 0,
  "metadata": {
    "colab": {
      "name": "Welcome To Colaboratory",
      "provenance": [],
      "collapsed_sections": [],
      "toc_visible": true
    },
    "kernelspec": {
      "display_name": "Python 3",
      "name": "python3"
    }
  },
  "cells": [
    {
      "cell_type": "code",
      "metadata": {
        "id": "PY-hYc5LOLQF",
        "colab_type": "code",
        "colab": {
          "base_uri": "https://localhost:8080/",
          "height": 35
        },
        "outputId": "f3822e3b-227b-4ba4-85e9-2ae30d67c185"
      },
      "source": [
        "from google.colab import drive\n",
        "drive.mount('/content/drive/', force_remount=True)"
      ],
      "execution_count": 16,
      "outputs": [
        {
          "output_type": "stream",
          "text": [
            "Mounted at /content/drive/\n"
          ],
          "name": "stdout"
        }
      ]
    },
    {
      "cell_type": "code",
      "metadata": {
        "id": "WgcLBUBiOQpB",
        "colab_type": "code",
        "colab": {
          "base_uri": "https://localhost:8080/",
          "height": 35
        },
        "outputId": "c5c4ac62-fb78-48f8-d40a-570904ecfe7f"
      },
      "source": [
        "'./drive/My Drive/Colab Notebooks/MHK US Equity.xlxs'"
      ],
      "execution_count": 17,
      "outputs": [
        {
          "output_type": "execute_result",
          "data": {
            "text/plain": [
              "'./drive/My Drive/Colab Notebooks/MHK US Equity.xlxs'"
            ]
          },
          "metadata": {
            "tags": []
          },
          "execution_count": 17
        }
      ]
    },
    {
      "cell_type": "code",
      "metadata": {
        "id": "RKYuoWIaOYzC",
        "colab_type": "code",
        "colab": {
          "base_uri": "https://localhost:8080/",
          "height": 322
        },
        "outputId": "02b0042b-923e-4dc9-9874-179bc4baa20b"
      },
      "source": [
        "df = pd.read_excel(r'./drive/My Drive/Colab Notebooks/MHK US Equity.xlsx')\n",
        "df_ori = pd.to_datetime(df.iloc[:, 0]).tolist()\n",
        "df.head()"
      ],
      "execution_count": 18,
      "outputs": [
        {
          "output_type": "execute_result",
          "data": {
            "text/html": [
              "<div>\n",
              "<style scoped>\n",
              "    .dataframe tbody tr th:only-of-type {\n",
              "        vertical-align: middle;\n",
              "    }\n",
              "\n",
              "    .dataframe tbody tr th {\n",
              "        vertical-align: top;\n",
              "    }\n",
              "\n",
              "    .dataframe thead th {\n",
              "        text-align: right;\n",
              "    }\n",
              "</style>\n",
              "<table border=\"1\" class=\"dataframe\">\n",
              "  <thead>\n",
              "    <tr style=\"text-align: right;\">\n",
              "      <th></th>\n",
              "      <th>DATA</th>\n",
              "      <th>PX_LAST</th>\n",
              "      <th>PX_ASK</th>\n",
              "      <th>PX_BID</th>\n",
              "      <th>NET_INCOME_MARGIN_ADJUSTED</th>\n",
              "      <th>WACC_COST_DEBT</th>\n",
              "      <th>BS_ST_BORROW</th>\n",
              "      <th>BS_LT_BORROW</th>\n",
              "      <th>IS_RD_EXPEND</th>\n",
              "      <th>PX_TO_BOOK_RATIO</th>\n",
              "      <th>IS_INT_EXPENSE</th>\n",
              "      <th>CF_FREE_CASH_FLOW</th>\n",
              "      <th>QUICK_RATIO</th>\n",
              "      <th>CUR_RATIO</th>\n",
              "      <th>WACC</th>\n",
              "      <th>WACC_COST_DEBT.1</th>\n",
              "      <th>WACC_COST_EQUITY</th>\n",
              "      <th>ROC_WACC_RATIO</th>\n",
              "      <th>BEST_NET_DEBT</th>\n",
              "      <th>NET_DEBT_TO_SHRHLDR_EQTY</th>\n",
              "      <th>NET_DEBT_%_CAPITAL</th>\n",
              "      <th>EBITDA</th>\n",
              "      <th>EBIT</th>\n",
              "      <th>BEST_NET_INCOME</th>\n",
              "      <th>EBITDA_TO_REVENUE</th>\n",
              "      <th>EBIT_TO_NET_SALES</th>\n",
              "      <th>BS_TOT_ASSET</th>\n",
              "      <th>SALES_REV_TURN</th>\n",
              "      <th>BEST_EST_PE_CUR_YR</th>\n",
              "      <th>BEST_PE_RATIO</th>\n",
              "      <th>CURR_ENTP_VAL</th>\n",
              "      <th>REVENUE_GROWTH_ADJUSTED_5Y_CAGR</th>\n",
              "      <th>SALES_GROWTH</th>\n",
              "      <th>EBITDA_GROWTH</th>\n",
              "      <th>GEO_GROW_EBITDA</th>\n",
              "      <th>NET_INC_GROWTH</th>\n",
              "      <th>GEO_GROW_NET_INC</th>\n",
              "      <th>BEST_EPS_NXT_YR</th>\n",
              "      <th>MOV_AVG_50D</th>\n",
              "      <th>MOV_AVG_200D</th>\n",
              "      <th>RSI_14D</th>\n",
              "      <th>RSI_30D</th>\n",
              "      <th>RSI_9D</th>\n",
              "      <th>PX_VOLUME</th>\n",
              "    </tr>\n",
              "  </thead>\n",
              "  <tbody>\n",
              "    <tr>\n",
              "      <th>0</th>\n",
              "      <td>2013-12-31</td>\n",
              "      <td>148.90</td>\n",
              "      <td>148.91</td>\n",
              "      <td>148.90</td>\n",
              "      <td>7.0948</td>\n",
              "      <td>3.3894</td>\n",
              "      <td>127.218</td>\n",
              "      <td>2132.79</td>\n",
              "      <td>0</td>\n",
              "      <td>2.4261</td>\n",
              "      <td>22.148</td>\n",
              "      <td>87.163</td>\n",
              "      <td>0.7979</td>\n",
              "      <td>2.3362</td>\n",
              "      <td>10.9074</td>\n",
              "      <td>3.3894</td>\n",
              "      <td>12.4772</td>\n",
              "      <td>0.58</td>\n",
              "      <td>0</td>\n",
              "      <td>49.3466</td>\n",
              "      <td>33.0416</td>\n",
              "      <td>237.317</td>\n",
              "      <td>150.988</td>\n",
              "      <td>0.0</td>\n",
              "      <td>12.3339</td>\n",
              "      <td>7.8472</td>\n",
              "      <td>8494.177</td>\n",
              "      <td>1924.104</td>\n",
              "      <td>0.0</td>\n",
              "      <td>0.0</td>\n",
              "      <td>13029.0296</td>\n",
              "      <td>0.0</td>\n",
              "      <td>34.0224</td>\n",
              "      <td>48.5664</td>\n",
              "      <td>0.0</td>\n",
              "      <td>42.5703</td>\n",
              "      <td>0.0</td>\n",
              "      <td>0.0</td>\n",
              "      <td>138.8840</td>\n",
              "      <td>123.2779</td>\n",
              "      <td>65.1380</td>\n",
              "      <td>65.1935</td>\n",
              "      <td>67.9928</td>\n",
              "      <td>533632</td>\n",
              "    </tr>\n",
              "    <tr>\n",
              "      <th>1</th>\n",
              "      <td>2014-01-01</td>\n",
              "      <td>148.90</td>\n",
              "      <td>148.91</td>\n",
              "      <td>148.90</td>\n",
              "      <td>7.0948</td>\n",
              "      <td>3.3894</td>\n",
              "      <td>127.218</td>\n",
              "      <td>2132.79</td>\n",
              "      <td>0</td>\n",
              "      <td>2.4261</td>\n",
              "      <td>22.148</td>\n",
              "      <td>87.163</td>\n",
              "      <td>0.7979</td>\n",
              "      <td>2.3362</td>\n",
              "      <td>10.9074</td>\n",
              "      <td>3.3894</td>\n",
              "      <td>12.4772</td>\n",
              "      <td>0.58</td>\n",
              "      <td>0</td>\n",
              "      <td>49.3466</td>\n",
              "      <td>33.0416</td>\n",
              "      <td>237.317</td>\n",
              "      <td>150.988</td>\n",
              "      <td>0.0</td>\n",
              "      <td>12.3339</td>\n",
              "      <td>7.8472</td>\n",
              "      <td>8494.177</td>\n",
              "      <td>1924.104</td>\n",
              "      <td>0.0</td>\n",
              "      <td>0.0</td>\n",
              "      <td>13029.0296</td>\n",
              "      <td>0.0</td>\n",
              "      <td>34.0224</td>\n",
              "      <td>48.5664</td>\n",
              "      <td>0.0</td>\n",
              "      <td>42.5703</td>\n",
              "      <td>0.0</td>\n",
              "      <td>0.0</td>\n",
              "      <td>138.8840</td>\n",
              "      <td>123.2779</td>\n",
              "      <td>65.1380</td>\n",
              "      <td>65.1935</td>\n",
              "      <td>67.9928</td>\n",
              "      <td>533632</td>\n",
              "    </tr>\n",
              "    <tr>\n",
              "      <th>2</th>\n",
              "      <td>2014-01-02</td>\n",
              "      <td>149.11</td>\n",
              "      <td>149.10</td>\n",
              "      <td>149.07</td>\n",
              "      <td>7.0948</td>\n",
              "      <td>3.3894</td>\n",
              "      <td>127.218</td>\n",
              "      <td>2132.79</td>\n",
              "      <td>0</td>\n",
              "      <td>2.4295</td>\n",
              "      <td>22.148</td>\n",
              "      <td>87.163</td>\n",
              "      <td>0.7979</td>\n",
              "      <td>2.3362</td>\n",
              "      <td>10.9074</td>\n",
              "      <td>3.3894</td>\n",
              "      <td>12.4772</td>\n",
              "      <td>0.58</td>\n",
              "      <td>0</td>\n",
              "      <td>49.3466</td>\n",
              "      <td>33.0416</td>\n",
              "      <td>237.317</td>\n",
              "      <td>150.988</td>\n",
              "      <td>0.0</td>\n",
              "      <td>12.3339</td>\n",
              "      <td>7.8472</td>\n",
              "      <td>8494.177</td>\n",
              "      <td>1924.104</td>\n",
              "      <td>0.0</td>\n",
              "      <td>0.0</td>\n",
              "      <td>13044.2809</td>\n",
              "      <td>0.0</td>\n",
              "      <td>34.0224</td>\n",
              "      <td>48.5664</td>\n",
              "      <td>0.0</td>\n",
              "      <td>42.5703</td>\n",
              "      <td>0.0</td>\n",
              "      <td>0.0</td>\n",
              "      <td>139.3660</td>\n",
              "      <td>123.4603</td>\n",
              "      <td>65.4500</td>\n",
              "      <td>65.3393</td>\n",
              "      <td>68.4927</td>\n",
              "      <td>676997</td>\n",
              "    </tr>\n",
              "    <tr>\n",
              "      <th>3</th>\n",
              "      <td>2014-01-03</td>\n",
              "      <td>149.45</td>\n",
              "      <td>149.48</td>\n",
              "      <td>149.47</td>\n",
              "      <td>7.0948</td>\n",
              "      <td>3.3894</td>\n",
              "      <td>127.218</td>\n",
              "      <td>2132.79</td>\n",
              "      <td>0</td>\n",
              "      <td>2.4351</td>\n",
              "      <td>22.148</td>\n",
              "      <td>87.163</td>\n",
              "      <td>0.7979</td>\n",
              "      <td>2.3362</td>\n",
              "      <td>10.9074</td>\n",
              "      <td>3.3894</td>\n",
              "      <td>12.4772</td>\n",
              "      <td>0.58</td>\n",
              "      <td>0</td>\n",
              "      <td>49.3466</td>\n",
              "      <td>33.0416</td>\n",
              "      <td>237.317</td>\n",
              "      <td>150.988</td>\n",
              "      <td>0.0</td>\n",
              "      <td>12.3339</td>\n",
              "      <td>7.8472</td>\n",
              "      <td>8494.177</td>\n",
              "      <td>1924.104</td>\n",
              "      <td>0.0</td>\n",
              "      <td>0.0</td>\n",
              "      <td>13068.9733</td>\n",
              "      <td>0.0</td>\n",
              "      <td>34.0224</td>\n",
              "      <td>48.5664</td>\n",
              "      <td>0.0</td>\n",
              "      <td>42.5703</td>\n",
              "      <td>0.0</td>\n",
              "      <td>0.0</td>\n",
              "      <td>139.8022</td>\n",
              "      <td>123.6346</td>\n",
              "      <td>65.9809</td>\n",
              "      <td>65.5808</td>\n",
              "      <td>69.3643</td>\n",
              "      <td>521291</td>\n",
              "    </tr>\n",
              "    <tr>\n",
              "      <th>4</th>\n",
              "      <td>2014-01-06</td>\n",
              "      <td>147.34</td>\n",
              "      <td>147.40</td>\n",
              "      <td>147.36</td>\n",
              "      <td>7.0948</td>\n",
              "      <td>3.3894</td>\n",
              "      <td>127.218</td>\n",
              "      <td>2132.79</td>\n",
              "      <td>0</td>\n",
              "      <td>2.4007</td>\n",
              "      <td>22.148</td>\n",
              "      <td>87.163</td>\n",
              "      <td>0.7979</td>\n",
              "      <td>2.3362</td>\n",
              "      <td>10.9074</td>\n",
              "      <td>3.3894</td>\n",
              "      <td>12.4772</td>\n",
              "      <td>0.58</td>\n",
              "      <td>0</td>\n",
              "      <td>49.3466</td>\n",
              "      <td>33.0416</td>\n",
              "      <td>237.317</td>\n",
              "      <td>150.988</td>\n",
              "      <td>0.0</td>\n",
              "      <td>12.3339</td>\n",
              "      <td>7.8472</td>\n",
              "      <td>8494.177</td>\n",
              "      <td>1924.104</td>\n",
              "      <td>0.0</td>\n",
              "      <td>0.0</td>\n",
              "      <td>12915.7349</td>\n",
              "      <td>0.0</td>\n",
              "      <td>34.0224</td>\n",
              "      <td>48.5664</td>\n",
              "      <td>0.0</td>\n",
              "      <td>42.5703</td>\n",
              "      <td>0.0</td>\n",
              "      <td>0.0</td>\n",
              "      <td>140.1838</td>\n",
              "      <td>123.8148</td>\n",
              "      <td>59.8358</td>\n",
              "      <td>62.7730</td>\n",
              "      <td>58.1367</td>\n",
              "      <td>470527</td>\n",
              "    </tr>\n",
              "  </tbody>\n",
              "</table>\n",
              "</div>"
            ],
            "text/plain": [
              "        DATA  PX_LAST  PX_ASK  PX_BID  ...  RSI_14D  RSI_30D   RSI_9D  PX_VOLUME\n",
              "0 2013-12-31   148.90  148.91  148.90  ...  65.1380  65.1935  67.9928     533632\n",
              "1 2014-01-01   148.90  148.91  148.90  ...  65.1380  65.1935  67.9928     533632\n",
              "2 2014-01-02   149.11  149.10  149.07  ...  65.4500  65.3393  68.4927     676997\n",
              "3 2014-01-03   149.45  149.48  149.47  ...  65.9809  65.5808  69.3643     521291\n",
              "4 2014-01-06   147.34  147.40  147.36  ...  59.8358  62.7730  58.1367     470527\n",
              "\n",
              "[5 rows x 44 columns]"
            ]
          },
          "metadata": {
            "tags": []
          },
          "execution_count": 18
        }
      ]
    },
    {
      "cell_type": "code",
      "metadata": {
        "id": "Ny3nhepTOb1r",
        "colab_type": "code",
        "colab": {}
      },
      "source": [
        "import sys\n",
        "import warnings\n",
        "\n",
        "if not sys.warnoptions:\n",
        "    warnings.simplefilter('ignore')\n",
        "\n",
        "from __future__ import print_function, division\n",
        "from tensorflow.contrib import rnn\n",
        "import numpy as np\n",
        "import tensorflow as tf\n",
        "import matplotlib.pyplot as plt\n",
        "import numpy as np\n",
        "import matplotlib.pyplot as plt\n",
        "import seaborn as sns\n",
        "import pandas as pd\n",
        "from sklearn.preprocessing import MinMaxScaler\n",
        "from datetime import datetime\n",
        "from datetime import timedelta\n",
        "from tqdm import tqdm\n",
        "sns.set()"
      ],
      "execution_count": 0,
      "outputs": []
    },
    {
      "cell_type": "code",
      "metadata": {
        "id": "DlFfFxHTPA1O",
        "colab_type": "code",
        "colab": {
          "base_uri": "https://localhost:8080/",
          "height": 206
        },
        "outputId": "826bbe69-428b-4cfa-d5a3-880b1443aa7a"
      },
      "source": [
        "minmax = MinMaxScaler().fit(df.iloc[:, 3:4].astype('float32')) # Close index\n",
        "df_log = minmax.transform(df.iloc[:, 3:4].astype('float32')) # Close index\n",
        "df_log = pd.DataFrame(df_log)\n",
        "df_log.head()"
      ],
      "execution_count": 20,
      "outputs": [
        {
          "output_type": "execute_result",
          "data": {
            "text/html": [
              "<div>\n",
              "<style scoped>\n",
              "    .dataframe tbody tr th:only-of-type {\n",
              "        vertical-align: middle;\n",
              "    }\n",
              "\n",
              "    .dataframe tbody tr th {\n",
              "        vertical-align: top;\n",
              "    }\n",
              "\n",
              "    .dataframe thead th {\n",
              "        text-align: right;\n",
              "    }\n",
              "</style>\n",
              "<table border=\"1\" class=\"dataframe\">\n",
              "  <thead>\n",
              "    <tr style=\"text-align: right;\">\n",
              "      <th></th>\n",
              "      <th>0</th>\n",
              "    </tr>\n",
              "  </thead>\n",
              "  <tbody>\n",
              "    <tr>\n",
              "      <th>0</th>\n",
              "      <td>0.216807</td>\n",
              "    </tr>\n",
              "    <tr>\n",
              "      <th>1</th>\n",
              "      <td>0.216807</td>\n",
              "    </tr>\n",
              "    <tr>\n",
              "      <th>2</th>\n",
              "      <td>0.217788</td>\n",
              "    </tr>\n",
              "    <tr>\n",
              "      <th>3</th>\n",
              "      <td>0.220095</td>\n",
              "    </tr>\n",
              "    <tr>\n",
              "      <th>4</th>\n",
              "      <td>0.207925</td>\n",
              "    </tr>\n",
              "  </tbody>\n",
              "</table>\n",
              "</div>"
            ],
            "text/plain": [
              "          0\n",
              "0  0.216807\n",
              "1  0.216807\n",
              "2  0.217788\n",
              "3  0.220095\n",
              "4  0.207925"
            ]
          },
          "metadata": {
            "tags": []
          },
          "execution_count": 20
        }
      ]
    },
    {
      "cell_type": "code",
      "metadata": {
        "id": "VZGhE2_oP3Sn",
        "colab_type": "code",
        "colab": {
          "base_uri": "https://localhost:8080/",
          "height": 35
        },
        "outputId": "6111aa49-9083-4640-df6f-1957f856b63a"
      },
      "source": [
        "test_size = 30\n",
        "simulation_size = 10\n",
        "\n",
        "df_train = df_log.iloc[:-test_size]\n",
        "df_test = df_log.iloc[-test_size:]\n",
        "df.shape, df_train.shape, df_test.shape"
      ],
      "execution_count": 21,
      "outputs": [
        {
          "output_type": "execute_result",
          "data": {
            "text/plain": [
              "((1434, 44), (1404, 1), (30, 1))"
            ]
          },
          "metadata": {
            "tags": []
          },
          "execution_count": 21
        }
      ]
    },
    {
      "cell_type": "code",
      "metadata": {
        "id": "g2f3WezkQb5T",
        "colab_type": "code",
        "colab": {}
      },
      "source": [
        "class Model:\n",
        "    def __init__(\n",
        "        self,\n",
        "        learning_rate,\n",
        "        num_layers,\n",
        "        size,\n",
        "        size_layer,\n",
        "        output_size,\n",
        "        forget_bias = 0.1,\n",
        "    ):\n",
        "        def lstm_cell(size_layer):\n",
        "            return tf.contrib.rnn.BasicRNNCell(size_layer)\n",
        "        \n",
        "        with tf.variable_scope('forward', reuse = False):\n",
        "            rnn_cells_forward = tf.contrib.rnn.MultiRNNCell(\n",
        "                [lstm_cell(size_layer) for _ in range(num_layers)],\n",
        "                state_is_tuple = False,\n",
        "            )\n",
        "            self.X_forward = tf.placeholder(tf.float32, (None, None, size))\n",
        "            drop_forward = tf.contrib.rnn.DropoutWrapper(\n",
        "                rnn_cells_forward, output_keep_prob = forget_bias\n",
        "            )\n",
        "            self.hidden_layer_forward = tf.placeholder(\n",
        "                tf.float32, (None, num_layers * size_layer)\n",
        "            )\n",
        "            self.outputs_forward, self.last_state_forward = tf.nn.dynamic_rnn(\n",
        "                drop_forward,\n",
        "                self.X_forward,\n",
        "                initial_state = self.hidden_layer_forward,\n",
        "                dtype = tf.float32,\n",
        "            )\n",
        "\n",
        "        with tf.variable_scope('backward', reuse = False):\n",
        "            rnn_cells_backward = tf.contrib.rnn.MultiRNNCell(\n",
        "                [lstm_cell(size_layer) for _ in range(num_layers)],\n",
        "                state_is_tuple = False,\n",
        "            )\n",
        "            self.X_backward = tf.placeholder(tf.float32, (None, None, size))\n",
        "            drop_backward = tf.contrib.rnn.DropoutWrapper(\n",
        "                rnn_cells_backward, output_keep_prob = forget_bias\n",
        "            )\n",
        "            self.hidden_layer_backward = tf.placeholder(\n",
        "                tf.float32, (None, num_layers * size_layer)\n",
        "            )\n",
        "            self.outputs_backward, self.last_state_backward = tf.nn.dynamic_rnn(\n",
        "                drop_backward,\n",
        "                self.X_backward,\n",
        "                initial_state = self.hidden_layer_backward,\n",
        "                dtype = tf.float32,\n",
        "            )\n",
        "\n",
        "        self.outputs = self.outputs_backward - self.outputs_forward\n",
        "        self.Y = tf.placeholder(tf.float32, (None, output_size))\n",
        "        self.logits = tf.layers.dense(self.outputs[-1], output_size)\n",
        "        self.cost = tf.reduce_mean(tf.square(self.Y - self.logits))\n",
        "        self.optimizer = tf.train.AdamOptimizer(learning_rate).minimize(\n",
        "            self.cost\n",
        "        )\n",
        "        \n",
        "def calculate_accuracy(real, predict):\n",
        "    real = np.array(real) + 1\n",
        "    predict = np.array(predict) + 1\n",
        "    percentage = 1 - np.sqrt(np.mean(np.square((real - predict) / real)))\n",
        "    return percentage * 100\n",
        "\n",
        "def anchor(signal, weight):\n",
        "    buffer = []\n",
        "    last = signal[0]\n",
        "    for i in signal:\n",
        "        smoothed_val = last * weight + (1 - weight) * i\n",
        "        buffer.append(smoothed_val)\n",
        "        last = smoothed_val\n",
        "    return buffer"
      ],
      "execution_count": 0,
      "outputs": []
    },
    {
      "cell_type": "code",
      "metadata": {
        "id": "_CnnJrFnR3xC",
        "colab_type": "code",
        "colab": {}
      },
      "source": [
        "num_layers = 1\n",
        "size_layer = 128\n",
        "timestamp = 5\n",
        "epoch = 300\n",
        "dropout_rate = 0.8\n",
        "future_day = test_size\n",
        "learning_rate = 0.01"
      ],
      "execution_count": 0,
      "outputs": []
    },
    {
      "cell_type": "code",
      "metadata": {
        "id": "Ef0eOXJDR7U7",
        "colab_type": "code",
        "colab": {}
      },
      "source": [
        "def forecast():\n",
        "    tf.reset_default_graph()\n",
        "    modelnn = Model(\n",
        "        learning_rate, num_layers, df_log.shape[1], size_layer, df_log.shape[1], dropout_rate\n",
        "    )\n",
        "    sess = tf.InteractiveSession()\n",
        "    sess.run(tf.global_variables_initializer())\n",
        "    date_ori = pd.to_datetime(df.iloc[:, 0]).tolist()\n",
        "\n",
        "    pbar = tqdm(range(epoch), desc = 'train loop')\n",
        "    for i in pbar:\n",
        "        init_value_forward = np.zeros((1, num_layers * size_layer))\n",
        "        init_value_backward = np.zeros((1, num_layers * size_layer))\n",
        "        total_loss, total_acc = [], []\n",
        "        for k in range(0, df_train.shape[0] - 1, timestamp):\n",
        "            index = min(k + timestamp, df_train.shape[0] - 1)\n",
        "            batch_x_forward = np.expand_dims(\n",
        "                df_train.iloc[k : index, :].values, axis = 0\n",
        "            )\n",
        "            batch_x_backward = np.expand_dims(\n",
        "                np.flip(df_train.iloc[k : index, :].values, axis = 0), axis = 0\n",
        "            )\n",
        "            batch_y = df_train.iloc[k + 1 : index + 1, :].values\n",
        "            logits, last_state_forward, last_state_backward, _, loss = sess.run(\n",
        "                [\n",
        "                    modelnn.logits,\n",
        "                    modelnn.last_state_forward,\n",
        "                    modelnn.last_state_backward,\n",
        "                    modelnn.optimizer,\n",
        "                    modelnn.cost,\n",
        "                ],\n",
        "                feed_dict = {\n",
        "                    modelnn.X_forward: batch_x_forward,\n",
        "                    modelnn.X_backward: batch_x_backward,\n",
        "                    modelnn.Y: batch_y,\n",
        "                    modelnn.hidden_layer_forward: init_value_forward,\n",
        "                    modelnn.hidden_layer_backward: init_value_backward,\n",
        "                },\n",
        "            )\n",
        "            init_value_forward = last_state_forward\n",
        "            init_value_backward = last_state_backward\n",
        "            total_loss.append(loss)\n",
        "            total_acc.append(calculate_accuracy(batch_y[:, 0], logits[:, 0]))\n",
        "        pbar.set_postfix(cost = np.mean(total_loss), acc = np.mean(total_acc))\n",
        "    \n",
        "    future_day = test_size\n",
        "\n",
        "    output_predict = np.zeros((df_train.shape[0] + future_day, df_train.shape[1]))\n",
        "    output_predict[0] = df_train.iloc[0]\n",
        "    upper_b = (df_train.shape[0] // timestamp) * timestamp\n",
        "    init_value_forward = np.zeros((1, num_layers * size_layer))\n",
        "    init_value_backward = np.zeros((1, num_layers * size_layer))\n",
        "\n",
        "    for k in range(0, (df_train.shape[0] // timestamp) * timestamp, timestamp):\n",
        "        batch_x_forward = np.expand_dims(\n",
        "        df_train.iloc[k : k + timestamp, :], axis = 0\n",
        "        )\n",
        "        batch_x_backward = np.expand_dims(\n",
        "            np.flip(df_train.iloc[k : k + timestamp, :].values, axis = 0), axis = 0\n",
        "        )\n",
        "        out_logits, last_state_forward, last_state_backward = sess.run(\n",
        "            [\n",
        "                modelnn.logits,\n",
        "                modelnn.last_state_forward,\n",
        "                modelnn.last_state_backward,\n",
        "            ],\n",
        "            feed_dict = {\n",
        "                modelnn.X_forward: batch_x_forward,\n",
        "                modelnn.X_backward: batch_x_backward,\n",
        "                modelnn.hidden_layer_forward: init_value_forward,\n",
        "                modelnn.hidden_layer_backward: init_value_backward,\n",
        "            },\n",
        "        )\n",
        "        init_value_forward = last_state_forward\n",
        "        init_value_backward = last_state_backward\n",
        "        output_predict[k + 1 : k + timestamp + 1, :] = out_logits\n",
        "\n",
        "    if upper_b != df_train.shape[0]:\n",
        "        batch_x_forward = np.expand_dims(df_train.iloc[upper_b:, :], axis = 0)\n",
        "        batch_x_backward = np.expand_dims(\n",
        "            np.flip(df_train.iloc[upper_b:, :].values, axis = 0), axis = 0\n",
        "        )\n",
        "        out_logits, last_state_forward, last_state_backward = sess.run(\n",
        "            [modelnn.logits, modelnn.last_state_forward, modelnn.last_state_backward],\n",
        "            feed_dict = {\n",
        "                modelnn.X_forward: batch_x_forward,\n",
        "                modelnn.X_backward: batch_x_backward,\n",
        "                modelnn.hidden_layer_forward: init_value_forward,\n",
        "                modelnn.hidden_layer_backward: init_value_backward,\n",
        "            },\n",
        "        )\n",
        "        init_value_forward = last_state_forward\n",
        "        init_value_backward = last_state_backward\n",
        "        output_predict[upper_b + 1 : df_train.shape[0] + 1] = out_logits\n",
        "        future_day -= 1\n",
        "        date_ori.append(date_ori[-1] + timedelta(days = 1))\n",
        "        \n",
        "    init_value_forward = last_state_forward\n",
        "    init_value_backward = last_state_backward\n",
        "    \n",
        "    for i in range(future_day):\n",
        "        o = output_predict[-future_day - timestamp + i:-future_day + i]\n",
        "        o_f = np.flip(o, axis = 0)\n",
        "        out_logits, last_state_forward, last_state_backward = sess.run(\n",
        "            [\n",
        "                modelnn.logits,\n",
        "                modelnn.last_state_forward,\n",
        "                modelnn.last_state_backward,\n",
        "            ],\n",
        "            feed_dict = {\n",
        "                modelnn.X_forward: np.expand_dims(o, axis = 0),\n",
        "                modelnn.X_backward: np.expand_dims(o_f, axis = 0),\n",
        "                modelnn.hidden_layer_forward: init_value_forward,\n",
        "                modelnn.hidden_layer_backward: init_value_backward,\n",
        "            },\n",
        "        )\n",
        "        init_value_forward = last_state_forward\n",
        "        init_value_backward = last_state_backward\n",
        "        output_predict[-future_day + i] = out_logits[-1]\n",
        "        date_ori.append(date_ori[-1] + timedelta(days = 1))\n",
        "    \n",
        "    output_predict = minmax.inverse_transform(output_predict)\n",
        "    deep_future = anchor(output_predict[:, 0], 0.3)\n",
        "    \n",
        "    return deep_future[-test_size:]"
      ],
      "execution_count": 0,
      "outputs": []
    },
    {
      "cell_type": "code",
      "metadata": {
        "id": "mPlAFWrkSN6X",
        "colab_type": "code",
        "colab": {
          "base_uri": "https://localhost:8080/",
          "height": 1000
        },
        "outputId": "7853aeb1-c4b0-4321-bea5-bc45dd6dc53c"
      },
      "source": [
        "results = []\n",
        "for i in range(simulation_size):\n",
        "    print('simulation %d'%(i + 1))\n",
        "    results.append(forecast())"
      ],
      "execution_count": 25,
      "outputs": [
        {
          "output_type": "stream",
          "text": [
            "simulation 1\n",
            "WARNING:tensorflow:From <ipython-input-22-faef457697e1>:12: BasicRNNCell.__init__ (from tensorflow.python.ops.rnn_cell_impl) is deprecated and will be removed in a future version.\n",
            "Instructions for updating:\n",
            "This class is equivalent as tf.keras.layers.SimpleRNNCell, and will be replaced by that in Tensorflow 2.0.\n"
          ],
          "name": "stdout"
        },
        {
          "output_type": "stream",
          "text": [
            "/usr/local/lib/python3.6/dist-packages/tensorflow/python/client/session.py:1702: UserWarning: An interactive session is already active. This can cause out-of-memory errors in some cases. You must explicitly call `InteractiveSession.close()` to release resources held by the other session(s).\n",
            "  warnings.warn('An interactive session is already active. This can '\n",
            "train loop: 100%|██████████| 300/300 [03:58<00:00,  1.26it/s, acc=88.8, cost=0.0287]\n"
          ],
          "name": "stderr"
        },
        {
          "output_type": "stream",
          "text": [
            "simulation 2\n"
          ],
          "name": "stdout"
        },
        {
          "output_type": "stream",
          "text": [
            "/usr/local/lib/python3.6/dist-packages/tensorflow/python/client/session.py:1702: UserWarning: An interactive session is already active. This can cause out-of-memory errors in some cases. You must explicitly call `InteractiveSession.close()` to release resources held by the other session(s).\n",
            "  warnings.warn('An interactive session is already active. This can '\n",
            "train loop: 100%|██████████| 300/300 [03:52<00:00,  1.29it/s, acc=84.9, cost=0.0492]\n"
          ],
          "name": "stderr"
        },
        {
          "output_type": "stream",
          "text": [
            "simulation 3\n"
          ],
          "name": "stdout"
        },
        {
          "output_type": "stream",
          "text": [
            "/usr/local/lib/python3.6/dist-packages/tensorflow/python/client/session.py:1702: UserWarning: An interactive session is already active. This can cause out-of-memory errors in some cases. You must explicitly call `InteractiveSession.close()` to release resources held by the other session(s).\n",
            "  warnings.warn('An interactive session is already active. This can '\n",
            "train loop: 100%|██████████| 300/300 [03:51<00:00,  1.30it/s, acc=87.1, cost=0.0367]\n"
          ],
          "name": "stderr"
        },
        {
          "output_type": "stream",
          "text": [
            "simulation 4\n"
          ],
          "name": "stdout"
        },
        {
          "output_type": "stream",
          "text": [
            "/usr/local/lib/python3.6/dist-packages/tensorflow/python/client/session.py:1702: UserWarning: An interactive session is already active. This can cause out-of-memory errors in some cases. You must explicitly call `InteractiveSession.close()` to release resources held by the other session(s).\n",
            "  warnings.warn('An interactive session is already active. This can '\n",
            "train loop: 100%|██████████| 300/300 [03:45<00:00,  1.33it/s, acc=79.9, cost=0.0952]\n"
          ],
          "name": "stderr"
        },
        {
          "output_type": "stream",
          "text": [
            "simulation 5\n"
          ],
          "name": "stdout"
        },
        {
          "output_type": "stream",
          "text": [
            "/usr/local/lib/python3.6/dist-packages/tensorflow/python/client/session.py:1702: UserWarning: An interactive session is already active. This can cause out-of-memory errors in some cases. You must explicitly call `InteractiveSession.close()` to release resources held by the other session(s).\n",
            "  warnings.warn('An interactive session is already active. This can '\n",
            "train loop: 100%|██████████| 300/300 [03:41<00:00,  1.35it/s, acc=86.5, cost=0.0405]\n"
          ],
          "name": "stderr"
        },
        {
          "output_type": "stream",
          "text": [
            "simulation 6\n"
          ],
          "name": "stdout"
        },
        {
          "output_type": "stream",
          "text": [
            "/usr/local/lib/python3.6/dist-packages/tensorflow/python/client/session.py:1702: UserWarning: An interactive session is already active. This can cause out-of-memory errors in some cases. You must explicitly call `InteractiveSession.close()` to release resources held by the other session(s).\n",
            "  warnings.warn('An interactive session is already active. This can '\n",
            "train loop: 100%|██████████| 300/300 [03:44<00:00,  1.34it/s, acc=82.4, cost=0.0694]\n"
          ],
          "name": "stderr"
        },
        {
          "output_type": "stream",
          "text": [
            "simulation 7\n"
          ],
          "name": "stdout"
        },
        {
          "output_type": "stream",
          "text": [
            "/usr/local/lib/python3.6/dist-packages/tensorflow/python/client/session.py:1702: UserWarning: An interactive session is already active. This can cause out-of-memory errors in some cases. You must explicitly call `InteractiveSession.close()` to release resources held by the other session(s).\n",
            "  warnings.warn('An interactive session is already active. This can '\n",
            "train loop: 100%|██████████| 300/300 [03:38<00:00,  1.37it/s, acc=88.3, cost=0.0305]\n"
          ],
          "name": "stderr"
        },
        {
          "output_type": "stream",
          "text": [
            "simulation 8\n"
          ],
          "name": "stdout"
        },
        {
          "output_type": "stream",
          "text": [
            "/usr/local/lib/python3.6/dist-packages/tensorflow/python/client/session.py:1702: UserWarning: An interactive session is already active. This can cause out-of-memory errors in some cases. You must explicitly call `InteractiveSession.close()` to release resources held by the other session(s).\n",
            "  warnings.warn('An interactive session is already active. This can '\n",
            "train loop: 100%|██████████| 300/300 [03:44<00:00,  1.34it/s, acc=87.4, cost=0.0378]\n"
          ],
          "name": "stderr"
        },
        {
          "output_type": "stream",
          "text": [
            "simulation 9\n"
          ],
          "name": "stdout"
        },
        {
          "output_type": "stream",
          "text": [
            "/usr/local/lib/python3.6/dist-packages/tensorflow/python/client/session.py:1702: UserWarning: An interactive session is already active. This can cause out-of-memory errors in some cases. You must explicitly call `InteractiveSession.close()` to release resources held by the other session(s).\n",
            "  warnings.warn('An interactive session is already active. This can '\n",
            "train loop: 100%|██████████| 300/300 [03:47<00:00,  1.32it/s, acc=86.9, cost=0.0375]\n"
          ],
          "name": "stderr"
        },
        {
          "output_type": "stream",
          "text": [
            "simulation 10\n"
          ],
          "name": "stdout"
        },
        {
          "output_type": "stream",
          "text": [
            "/usr/local/lib/python3.6/dist-packages/tensorflow/python/client/session.py:1702: UserWarning: An interactive session is already active. This can cause out-of-memory errors in some cases. You must explicitly call `InteractiveSession.close()` to release resources held by the other session(s).\n",
            "  warnings.warn('An interactive session is already active. This can '\n",
            "train loop: 100%|██████████| 300/300 [03:43<00:00,  1.34it/s, acc=79, cost=0.106]\n"
          ],
          "name": "stderr"
        }
      ]
    },
    {
      "cell_type": "code",
      "metadata": {
        "id": "ROvY6opTSSfj",
        "colab_type": "code",
        "colab": {
          "base_uri": "https://localhost:8080/",
          "height": 338
        },
        "outputId": "5a642fdc-ab58-487f-c76d-374136e9557c"
      },
      "source": [
        "accuracies = [calculate_accuracy(df['PX_LAST'].iloc[-test_size:].values, r) for r in results]\n",
        "\n",
        "plt.figure(figsize = (15, 5))\n",
        "for no, r in enumerate(results):\n",
        "    plt.plot(r, label = 'forecast %d'%(no + 1))\n",
        "plt.plot(df['PX_LAST'].iloc[-test_size:].values, label = 'true trend', c = 'black')\n",
        "plt.legend()\n",
        "plt.title('average accuracy: %.4f'%(np.mean(accuracies)))\n",
        "plt.show()"
      ],
      "execution_count": 26,
      "outputs": [
        {
          "output_type": "display_data",
          "data": {
            "image/png": "[encoded data removed]",
            "text/plain": [
              "<Figure size 1080x360 with 1 Axes>"
            ]
          },
          "metadata": {
            "tags": []
          }
        }
      ]
    },
    {
      "cell_type": "code",
      "metadata": {
        "id": "Hk4Xy6PbdIUQ",
        "colab_type": "code",
        "colab": {}
      },
      "source": [
        ""
      ],
      "execution_count": 0,
      "outputs": []
    }
  ]
}