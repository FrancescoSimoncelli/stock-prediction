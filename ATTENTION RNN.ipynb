{
  "nbformat": 4,
  "nbformat_minor": 0,
  "metadata": {
    "colab": {
      "name": "Welcome To Colaboratory",
      "provenance": [],
      "collapsed_sections": [],
      "toc_visible": true
    },
    "kernelspec": {
      "display_name": "Python 3",
      "name": "python3"
    }
  },
  "cells": [
    {
      "cell_type": "code",
      "metadata": {
        "id": "mpNRk6DsKFFx",
        "colab_type": "code",
        "colab": {
          "base_uri": "https://localhost:8080/",
          "height": 35
        },
        "outputId": "b9f41504-625b-41bc-ce3a-7ac35bdbefb2"
      },
      "source": [
        "from google.colab import drive\n",
        "drive.mount('/content/drive/', force_remount=True)"
      ],
      "execution_count": 1,
      "outputs": [
        {
          "output_type": "stream",
          "text": [
            "Mounted at /content/drive/\n"
          ],
          "name": "stdout"
        }
      ]
    },
    {
      "cell_type": "code",
      "metadata": {
        "id": "qEsULiu8KF5w",
        "colab_type": "code",
        "colab": {
          "base_uri": "https://localhost:8080/",
          "height": 35
        },
        "outputId": "7069109c-beaf-479c-c299-acc83fbcdd92"
      },
      "source": [
        "'./drive/My Drive/Colab Notebooks/MHK US Equity.xlxs'"
      ],
      "execution_count": 2,
      "outputs": [
        {
          "output_type": "execute_result",
          "data": {
            "text/plain": [
              "'./drive/My Drive/Colab Notebooks/MHK US Equity.xlxs'"
            ]
          },
          "metadata": {
            "tags": []
          },
          "execution_count": 2
        }
      ]
    },
    {
      "cell_type": "code",
      "metadata": {
        "id": "siCP-1bQLeQ_",
        "colab_type": "code",
        "colab": {
          "base_uri": "https://localhost:8080/",
          "height": 808
        },
        "outputId": "8947d088-d865-4b7e-e4fa-55c192bd887d"
      },
      "source": [
        "pip install tensorflow==1.13.2"
      ],
      "execution_count": 5,
      "outputs": [
        {
          "output_type": "stream",
          "text": [
            "Collecting tensorflow==1.13.2\n",
            "\u001b[?25l  Downloading https://files.pythonhosted.org/packages/db/d3/651f95288a6cd9094f7411cdd90ef12a3d01a268009e0e3cd66b5c8d65bd/tensorflow-1.13.2-cp36-cp36m-manylinux1_x86_64.whl (92.6MB)\n",
            "\u001b[K     |████████████████████████████████| 92.6MB 56kB/s \n",
            "\u001b[?25hRequirement already satisfied: six>=1.10.0 in /usr/local/lib/python3.6/dist-packages (from tensorflow==1.13.2) (1.12.0)\n",
            "Requirement already satisfied: keras-applications>=1.0.6 in /usr/local/lib/python3.6/dist-packages (from tensorflow==1.13.2) (1.0.8)\n",
            "Requirement already satisfied: numpy<2.0,>=1.16.0 in /usr/local/lib/python3.6/dist-packages (from tensorflow==1.13.2) (1.18.4)\n",
            "Collecting tensorflow-estimator<1.14.0rc0,>=1.13.0\n",
            "\u001b[?25l  Downloading https://files.pythonhosted.org/packages/bb/48/13f49fc3fa0fdf916aa1419013bb8f2ad09674c275b4046d5ee669a46873/tensorflow_estimator-1.13.0-py2.py3-none-any.whl (367kB)\n",
            "\u001b[K     |████████████████████████████████| 368kB 38.5MB/s \n",
            "\u001b[?25hRequirement already satisfied: keras-preprocessing>=1.0.5 in /usr/local/lib/python3.6/dist-packages (from tensorflow==1.13.2) (1.1.2)\n",
            "Requirement already satisfied: grpcio>=1.8.6 in /usr/local/lib/python3.6/dist-packages (from tensorflow==1.13.2) (1.29.0)\n",
            "Collecting tensorboard<1.14.0,>=1.13.0\n",
            "\u001b[?25l  Downloading https://files.pythonhosted.org/packages/0f/39/bdd75b08a6fba41f098b6cb091b9e8c7a80e1b4d679a581a0ccd17b10373/tensorboard-1.13.1-py3-none-any.whl (3.2MB)\n",
            "\u001b[K     |████████████████████████████████| 3.2MB 44.3MB/s \n",
            "\u001b[?25hRequirement already satisfied: wheel>=0.26 in /usr/local/lib/python3.6/dist-packages (from tensorflow==1.13.2) (0.34.2)\n",
            "Requirement already satisfied: termcolor>=1.1.0 in /usr/local/lib/python3.6/dist-packages (from tensorflow==1.13.2) (1.1.0)\n",
            "Requirement already satisfied: astor>=0.6.0 in /usr/local/lib/python3.6/dist-packages (from tensorflow==1.13.2) (0.8.1)\n",
            "Requirement already satisfied: absl-py>=0.1.6 in /usr/local/lib/python3.6/dist-packages (from tensorflow==1.13.2) (0.9.0)\n",
            "Requirement already satisfied: gast>=0.2.0 in /usr/local/lib/python3.6/dist-packages (from tensorflow==1.13.2) (0.3.3)\n",
            "Requirement already satisfied: protobuf>=3.6.1 in /usr/local/lib/python3.6/dist-packages (from tensorflow==1.13.2) (3.10.0)\n",
            "Requirement already satisfied: h5py in /usr/local/lib/python3.6/dist-packages (from keras-applications>=1.0.6->tensorflow==1.13.2) (2.10.0)\n",
            "Collecting mock>=2.0.0\n",
            "  Downloading https://files.pythonhosted.org/packages/cd/74/d72daf8dff5b6566db857cfd088907bb0355f5dd2914c4b3ef065c790735/mock-4.0.2-py3-none-any.whl\n",
            "Requirement already satisfied: werkzeug>=0.11.15 in /usr/local/lib/python3.6/dist-packages (from tensorboard<1.14.0,>=1.13.0->tensorflow==1.13.2) (1.0.1)\n",
            "Requirement already satisfied: markdown>=2.6.8 in /usr/local/lib/python3.6/dist-packages (from tensorboard<1.14.0,>=1.13.0->tensorflow==1.13.2) (3.2.2)\n",
            "Requirement already satisfied: setuptools in /usr/local/lib/python3.6/dist-packages (from protobuf>=3.6.1->tensorflow==1.13.2) (47.1.1)\n",
            "Requirement already satisfied: importlib-metadata; python_version < \"3.8\" in /usr/local/lib/python3.6/dist-packages (from markdown>=2.6.8->tensorboard<1.14.0,>=1.13.0->tensorflow==1.13.2) (1.6.0)\n",
            "Requirement already satisfied: zipp>=0.5 in /usr/local/lib/python3.6/dist-packages (from importlib-metadata; python_version < \"3.8\"->markdown>=2.6.8->tensorboard<1.14.0,>=1.13.0->tensorflow==1.13.2) (3.1.0)\n",
            "Installing collected packages: mock, tensorflow-estimator, tensorboard, tensorflow\n",
            "  Found existing installation: tensorflow-estimator 2.2.0\n",
            "    Uninstalling tensorflow-estimator-2.2.0:\n",
            "      Successfully uninstalled tensorflow-estimator-2.2.0\n",
            "  Found existing installation: tensorboard 2.2.2\n",
            "    Uninstalling tensorboard-2.2.2:\n",
            "      Successfully uninstalled tensorboard-2.2.2\n",
            "  Found existing installation: tensorflow 2.2.0\n",
            "    Uninstalling tensorflow-2.2.0:\n",
            "      Successfully uninstalled tensorflow-2.2.0\n",
            "Successfully installed mock-4.0.2 tensorboard-1.13.1 tensorflow-1.13.2 tensorflow-estimator-1.13.0\n"
          ],
          "name": "stdout"
        },
        {
          "output_type": "display_data",
          "data": {
            "application/vnd.colab-display-data+json": {
              "pip_warning": {
                "packages": [
                  "tensorboard",
                  "tensorflow"
                ]
              }
            }
          },
          "metadata": {
            "tags": []
          }
        }
      ]
    },
    {
      "cell_type": "code",
      "metadata": {
        "id": "HMemIafeKOX9",
        "colab_type": "code",
        "colab": {
          "base_uri": "https://localhost:8080/",
          "height": 321
        },
        "outputId": "29c566b7-5afa-40b3-9f78-608dba4a8642"
      },
      "source": [
        "df = pd.read_excel(r'./drive/My Drive/Colab Notebooks/MHK US Equity.xlsx')\n",
        "df_ori = pd.to_datetime(df.iloc[:, 0]).tolist()\n",
        "df.head()"
      ],
      "execution_count": 4,
      "outputs": [
        {
          "output_type": "execute_result",
          "data": {
            "text/html": [
              "<div>\n",
              "<style scoped>\n",
              "    .dataframe tbody tr th:only-of-type {\n",
              "        vertical-align: middle;\n",
              "    }\n",
              "\n",
              "    .dataframe tbody tr th {\n",
              "        vertical-align: top;\n",
              "    }\n",
              "\n",
              "    .dataframe thead th {\n",
              "        text-align: right;\n",
              "    }\n",
              "</style>\n",
              "<table border=\"1\" class=\"dataframe\">\n",
              "  <thead>\n",
              "    <tr style=\"text-align: right;\">\n",
              "      <th></th>\n",
              "      <th>DATA</th>\n",
              "      <th>PX_LAST</th>\n",
              "      <th>PX_ASK</th>\n",
              "      <th>PX_BID</th>\n",
              "      <th>NET_INCOME_MARGIN_ADJUSTED</th>\n",
              "      <th>WACC_COST_DEBT</th>\n",
              "      <th>BS_ST_BORROW</th>\n",
              "      <th>BS_LT_BORROW</th>\n",
              "      <th>IS_RD_EXPEND</th>\n",
              "      <th>PX_TO_BOOK_RATIO</th>\n",
              "      <th>IS_INT_EXPENSE</th>\n",
              "      <th>CF_FREE_CASH_FLOW</th>\n",
              "      <th>QUICK_RATIO</th>\n",
              "      <th>CUR_RATIO</th>\n",
              "      <th>WACC</th>\n",
              "      <th>WACC_COST_DEBT.1</th>\n",
              "      <th>WACC_COST_EQUITY</th>\n",
              "      <th>ROC_WACC_RATIO</th>\n",
              "      <th>BEST_NET_DEBT</th>\n",
              "      <th>NET_DEBT_TO_SHRHLDR_EQTY</th>\n",
              "      <th>NET_DEBT_%_CAPITAL</th>\n",
              "      <th>EBITDA</th>\n",
              "      <th>EBIT</th>\n",
              "      <th>BEST_NET_INCOME</th>\n",
              "      <th>EBITDA_TO_REVENUE</th>\n",
              "      <th>EBIT_TO_NET_SALES</th>\n",
              "      <th>BS_TOT_ASSET</th>\n",
              "      <th>SALES_REV_TURN</th>\n",
              "      <th>BEST_EST_PE_CUR_YR</th>\n",
              "      <th>BEST_PE_RATIO</th>\n",
              "      <th>CURR_ENTP_VAL</th>\n",
              "      <th>REVENUE_GROWTH_ADJUSTED_5Y_CAGR</th>\n",
              "      <th>SALES_GROWTH</th>\n",
              "      <th>EBITDA_GROWTH</th>\n",
              "      <th>GEO_GROW_EBITDA</th>\n",
              "      <th>NET_INC_GROWTH</th>\n",
              "      <th>GEO_GROW_NET_INC</th>\n",
              "      <th>BEST_EPS_NXT_YR</th>\n",
              "      <th>MOV_AVG_50D</th>\n",
              "      <th>MOV_AVG_200D</th>\n",
              "      <th>RSI_14D</th>\n",
              "      <th>RSI_30D</th>\n",
              "      <th>RSI_9D</th>\n",
              "      <th>PX_VOLUME</th>\n",
              "    </tr>\n",
              "  </thead>\n",
              "  <tbody>\n",
              "    <tr>\n",
              "      <th>0</th>\n",
              "      <td>2013-12-31</td>\n",
              "      <td>148.90</td>\n",
              "      <td>148.91</td>\n",
              "      <td>148.90</td>\n",
              "      <td>7.0948</td>\n",
              "      <td>3.3894</td>\n",
              "      <td>127.218</td>\n",
              "      <td>2132.79</td>\n",
              "      <td>0</td>\n",
              "      <td>2.4261</td>\n",
              "      <td>22.148</td>\n",
              "      <td>87.163</td>\n",
              "      <td>0.7979</td>\n",
              "      <td>2.3362</td>\n",
              "      <td>10.9074</td>\n",
              "      <td>3.3894</td>\n",
              "      <td>12.4772</td>\n",
              "      <td>0.58</td>\n",
              "      <td>0</td>\n",
              "      <td>49.3466</td>\n",
              "      <td>33.0416</td>\n",
              "      <td>237.317</td>\n",
              "      <td>150.988</td>\n",
              "      <td>0.0</td>\n",
              "      <td>12.3339</td>\n",
              "      <td>7.8472</td>\n",
              "      <td>8494.177</td>\n",
              "      <td>1924.104</td>\n",
              "      <td>0.0</td>\n",
              "      <td>0.0</td>\n",
              "      <td>13029.0296</td>\n",
              "      <td>0.0</td>\n",
              "      <td>34.0224</td>\n",
              "      <td>48.5664</td>\n",
              "      <td>0.0</td>\n",
              "      <td>42.5703</td>\n",
              "      <td>0.0</td>\n",
              "      <td>0.0</td>\n",
              "      <td>138.8840</td>\n",
              "      <td>123.2779</td>\n",
              "      <td>65.1380</td>\n",
              "      <td>65.1935</td>\n",
              "      <td>67.9928</td>\n",
              "      <td>533632</td>\n",
              "    </tr>\n",
              "    <tr>\n",
              "      <th>1</th>\n",
              "      <td>2014-01-01</td>\n",
              "      <td>148.90</td>\n",
              "      <td>148.91</td>\n",
              "      <td>148.90</td>\n",
              "      <td>7.0948</td>\n",
              "      <td>3.3894</td>\n",
              "      <td>127.218</td>\n",
              "      <td>2132.79</td>\n",
              "      <td>0</td>\n",
              "      <td>2.4261</td>\n",
              "      <td>22.148</td>\n",
              "      <td>87.163</td>\n",
              "      <td>0.7979</td>\n",
              "      <td>2.3362</td>\n",
              "      <td>10.9074</td>\n",
              "      <td>3.3894</td>\n",
              "      <td>12.4772</td>\n",
              "      <td>0.58</td>\n",
              "      <td>0</td>\n",
              "      <td>49.3466</td>\n",
              "      <td>33.0416</td>\n",
              "      <td>237.317</td>\n",
              "      <td>150.988</td>\n",
              "      <td>0.0</td>\n",
              "      <td>12.3339</td>\n",
              "      <td>7.8472</td>\n",
              "      <td>8494.177</td>\n",
              "      <td>1924.104</td>\n",
              "      <td>0.0</td>\n",
              "      <td>0.0</td>\n",
              "      <td>13029.0296</td>\n",
              "      <td>0.0</td>\n",
              "      <td>34.0224</td>\n",
              "      <td>48.5664</td>\n",
              "      <td>0.0</td>\n",
              "      <td>42.5703</td>\n",
              "      <td>0.0</td>\n",
              "      <td>0.0</td>\n",
              "      <td>138.8840</td>\n",
              "      <td>123.2779</td>\n",
              "      <td>65.1380</td>\n",
              "      <td>65.1935</td>\n",
              "      <td>67.9928</td>\n",
              "      <td>533632</td>\n",
              "    </tr>\n",
              "    <tr>\n",
              "      <th>2</th>\n",
              "      <td>2014-01-02</td>\n",
              "      <td>149.11</td>\n",
              "      <td>149.10</td>\n",
              "      <td>149.07</td>\n",
              "      <td>7.0948</td>\n",
              "      <td>3.3894</td>\n",
              "      <td>127.218</td>\n",
              "      <td>2132.79</td>\n",
              "      <td>0</td>\n",
              "      <td>2.4295</td>\n",
              "      <td>22.148</td>\n",
              "      <td>87.163</td>\n",
              "      <td>0.7979</td>\n",
              "      <td>2.3362</td>\n",
              "      <td>10.9074</td>\n",
              "      <td>3.3894</td>\n",
              "      <td>12.4772</td>\n",
              "      <td>0.58</td>\n",
              "      <td>0</td>\n",
              "      <td>49.3466</td>\n",
              "      <td>33.0416</td>\n",
              "      <td>237.317</td>\n",
              "      <td>150.988</td>\n",
              "      <td>0.0</td>\n",
              "      <td>12.3339</td>\n",
              "      <td>7.8472</td>\n",
              "      <td>8494.177</td>\n",
              "      <td>1924.104</td>\n",
              "      <td>0.0</td>\n",
              "      <td>0.0</td>\n",
              "      <td>13044.2809</td>\n",
              "      <td>0.0</td>\n",
              "      <td>34.0224</td>\n",
              "      <td>48.5664</td>\n",
              "      <td>0.0</td>\n",
              "      <td>42.5703</td>\n",
              "      <td>0.0</td>\n",
              "      <td>0.0</td>\n",
              "      <td>139.3660</td>\n",
              "      <td>123.4603</td>\n",
              "      <td>65.4500</td>\n",
              "      <td>65.3393</td>\n",
              "      <td>68.4927</td>\n",
              "      <td>676997</td>\n",
              "    </tr>\n",
              "    <tr>\n",
              "      <th>3</th>\n",
              "      <td>2014-01-03</td>\n",
              "      <td>149.45</td>\n",
              "      <td>149.48</td>\n",
              "      <td>149.47</td>\n",
              "      <td>7.0948</td>\n",
              "      <td>3.3894</td>\n",
              "      <td>127.218</td>\n",
              "      <td>2132.79</td>\n",
              "      <td>0</td>\n",
              "      <td>2.4351</td>\n",
              "      <td>22.148</td>\n",
              "      <td>87.163</td>\n",
              "      <td>0.7979</td>\n",
              "      <td>2.3362</td>\n",
              "      <td>10.9074</td>\n",
              "      <td>3.3894</td>\n",
              "      <td>12.4772</td>\n",
              "      <td>0.58</td>\n",
              "      <td>0</td>\n",
              "      <td>49.3466</td>\n",
              "      <td>33.0416</td>\n",
              "      <td>237.317</td>\n",
              "      <td>150.988</td>\n",
              "      <td>0.0</td>\n",
              "      <td>12.3339</td>\n",
              "      <td>7.8472</td>\n",
              "      <td>8494.177</td>\n",
              "      <td>1924.104</td>\n",
              "      <td>0.0</td>\n",
              "      <td>0.0</td>\n",
              "      <td>13068.9733</td>\n",
              "      <td>0.0</td>\n",
              "      <td>34.0224</td>\n",
              "      <td>48.5664</td>\n",
              "      <td>0.0</td>\n",
              "      <td>42.5703</td>\n",
              "      <td>0.0</td>\n",
              "      <td>0.0</td>\n",
              "      <td>139.8022</td>\n",
              "      <td>123.6346</td>\n",
              "      <td>65.9809</td>\n",
              "      <td>65.5808</td>\n",
              "      <td>69.3643</td>\n",
              "      <td>521291</td>\n",
              "    </tr>\n",
              "    <tr>\n",
              "      <th>4</th>\n",
              "      <td>2014-01-06</td>\n",
              "      <td>147.34</td>\n",
              "      <td>147.40</td>\n",
              "      <td>147.36</td>\n",
              "      <td>7.0948</td>\n",
              "      <td>3.3894</td>\n",
              "      <td>127.218</td>\n",
              "      <td>2132.79</td>\n",
              "      <td>0</td>\n",
              "      <td>2.4007</td>\n",
              "      <td>22.148</td>\n",
              "      <td>87.163</td>\n",
              "      <td>0.7979</td>\n",
              "      <td>2.3362</td>\n",
              "      <td>10.9074</td>\n",
              "      <td>3.3894</td>\n",
              "      <td>12.4772</td>\n",
              "      <td>0.58</td>\n",
              "      <td>0</td>\n",
              "      <td>49.3466</td>\n",
              "      <td>33.0416</td>\n",
              "      <td>237.317</td>\n",
              "      <td>150.988</td>\n",
              "      <td>0.0</td>\n",
              "      <td>12.3339</td>\n",
              "      <td>7.8472</td>\n",
              "      <td>8494.177</td>\n",
              "      <td>1924.104</td>\n",
              "      <td>0.0</td>\n",
              "      <td>0.0</td>\n",
              "      <td>12915.7349</td>\n",
              "      <td>0.0</td>\n",
              "      <td>34.0224</td>\n",
              "      <td>48.5664</td>\n",
              "      <td>0.0</td>\n",
              "      <td>42.5703</td>\n",
              "      <td>0.0</td>\n",
              "      <td>0.0</td>\n",
              "      <td>140.1838</td>\n",
              "      <td>123.8148</td>\n",
              "      <td>59.8358</td>\n",
              "      <td>62.7730</td>\n",
              "      <td>58.1367</td>\n",
              "      <td>470527</td>\n",
              "    </tr>\n",
              "  </tbody>\n",
              "</table>\n",
              "</div>"
            ],
            "text/plain": [
              "        DATA  PX_LAST  PX_ASK  PX_BID  ...  RSI_14D  RSI_30D   RSI_9D  PX_VOLUME\n",
              "0 2013-12-31   148.90  148.91  148.90  ...  65.1380  65.1935  67.9928     533632\n",
              "1 2014-01-01   148.90  148.91  148.90  ...  65.1380  65.1935  67.9928     533632\n",
              "2 2014-01-02   149.11  149.10  149.07  ...  65.4500  65.3393  68.4927     676997\n",
              "3 2014-01-03   149.45  149.48  149.47  ...  65.9809  65.5808  69.3643     521291\n",
              "4 2014-01-06   147.34  147.40  147.36  ...  59.8358  62.7730  58.1367     470527\n",
              "\n",
              "[5 rows x 44 columns]"
            ]
          },
          "metadata": {
            "tags": []
          },
          "execution_count": 4
        }
      ]
    },
    {
      "cell_type": "code",
      "metadata": {
        "id": "1VXTWvIoKQ7t",
        "colab_type": "code",
        "colab": {
          "base_uri": "https://localhost:8080/",
          "height": 287
        },
        "outputId": "3bb84873-07d9-4138-b65b-63e7de40bbe3"
      },
      "source": [
        "from __future__ import print_function, division\n",
        "from tensorflow.contrib import rnn\n",
        "import numpy as np\n",
        "import tensorflow as tf\n",
        "import matplotlib.pyplot as plt\n",
        "import numpy as np\n",
        "import matplotlib.pyplot as plt\n",
        "import seaborn as sns\n",
        "import pandas as pd\n",
        "from sklearn.preprocessing import MinMaxScaler\n",
        "from datetime import datetime\n",
        "from datetime import timedelta\n",
        "from tqdm import tqdm\n",
        "sns.set()"
      ],
      "execution_count": 3,
      "outputs": [
        {
          "output_type": "stream",
          "text": [
            "/usr/local/lib/python3.6/dist-packages/tensorflow/python/framework/dtypes.py:526: FutureWarning: Passing (type, 1) or '1type' as a synonym of type is deprecated; in a future version of numpy, it will be understood as (type, (1,)) / '(1,)type'.\n",
            "  _np_qint8 = np.dtype([(\"qint8\", np.int8, 1)])\n",
            "/usr/local/lib/python3.6/dist-packages/tensorflow/python/framework/dtypes.py:527: FutureWarning: Passing (type, 1) or '1type' as a synonym of type is deprecated; in a future version of numpy, it will be understood as (type, (1,)) / '(1,)type'.\n",
            "  _np_quint8 = np.dtype([(\"quint8\", np.uint8, 1)])\n",
            "/usr/local/lib/python3.6/dist-packages/tensorflow/python/framework/dtypes.py:528: FutureWarning: Passing (type, 1) or '1type' as a synonym of type is deprecated; in a future version of numpy, it will be understood as (type, (1,)) / '(1,)type'.\n",
            "  _np_qint16 = np.dtype([(\"qint16\", np.int16, 1)])\n",
            "/usr/local/lib/python3.6/dist-packages/tensorflow/python/framework/dtypes.py:529: FutureWarning: Passing (type, 1) or '1type' as a synonym of type is deprecated; in a future version of numpy, it will be understood as (type, (1,)) / '(1,)type'.\n",
            "  _np_quint16 = np.dtype([(\"quint16\", np.uint16, 1)])\n",
            "/usr/local/lib/python3.6/dist-packages/tensorflow/python/framework/dtypes.py:530: FutureWarning: Passing (type, 1) or '1type' as a synonym of type is deprecated; in a future version of numpy, it will be understood as (type, (1,)) / '(1,)type'.\n",
            "  _np_qint32 = np.dtype([(\"qint32\", np.int32, 1)])\n",
            "/usr/local/lib/python3.6/dist-packages/tensorflow/python/framework/dtypes.py:535: FutureWarning: Passing (type, 1) or '1type' as a synonym of type is deprecated; in a future version of numpy, it will be understood as (type, (1,)) / '(1,)type'.\n",
            "  np_resource = np.dtype([(\"resource\", np.ubyte, 1)])\n",
            "/usr/local/lib/python3.6/dist-packages/statsmodels/tools/_testing.py:19: FutureWarning: pandas.util.testing is deprecated. Use the functions in the public API at pandas.testing instead.\n",
            "  import pandas.util.testing as tm\n"
          ],
          "name": "stderr"
        }
      ]
    },
    {
      "cell_type": "code",
      "metadata": {
        "id": "nfai3Bl0Kdhi",
        "colab_type": "code",
        "colab": {
          "base_uri": "https://localhost:8080/",
          "height": 207
        },
        "outputId": "63a07d6f-68e0-4a35-fc7f-7f829c9d6d32"
      },
      "source": [
        "minmax = MinMaxScaler().fit(df.iloc[:, 3:4].astype('float32')) # Close index\n",
        "df_log = minmax.transform(df.iloc[:, 3:4].astype('float32')) # Close index\n",
        "df_log = pd.DataFrame(df_log)\n",
        "df_log.head()"
      ],
      "execution_count": 5,
      "outputs": [
        {
          "output_type": "execute_result",
          "data": {
            "text/html": [
              "<div>\n",
              "<style scoped>\n",
              "    .dataframe tbody tr th:only-of-type {\n",
              "        vertical-align: middle;\n",
              "    }\n",
              "\n",
              "    .dataframe tbody tr th {\n",
              "        vertical-align: top;\n",
              "    }\n",
              "\n",
              "    .dataframe thead th {\n",
              "        text-align: right;\n",
              "    }\n",
              "</style>\n",
              "<table border=\"1\" class=\"dataframe\">\n",
              "  <thead>\n",
              "    <tr style=\"text-align: right;\">\n",
              "      <th></th>\n",
              "      <th>0</th>\n",
              "    </tr>\n",
              "  </thead>\n",
              "  <tbody>\n",
              "    <tr>\n",
              "      <th>0</th>\n",
              "      <td>0.216807</td>\n",
              "    </tr>\n",
              "    <tr>\n",
              "      <th>1</th>\n",
              "      <td>0.216807</td>\n",
              "    </tr>\n",
              "    <tr>\n",
              "      <th>2</th>\n",
              "      <td>0.217788</td>\n",
              "    </tr>\n",
              "    <tr>\n",
              "      <th>3</th>\n",
              "      <td>0.220095</td>\n",
              "    </tr>\n",
              "    <tr>\n",
              "      <th>4</th>\n",
              "      <td>0.207925</td>\n",
              "    </tr>\n",
              "  </tbody>\n",
              "</table>\n",
              "</div>"
            ],
            "text/plain": [
              "          0\n",
              "0  0.216807\n",
              "1  0.216807\n",
              "2  0.217788\n",
              "3  0.220095\n",
              "4  0.207925"
            ]
          },
          "metadata": {
            "tags": []
          },
          "execution_count": 5
        }
      ]
    },
    {
      "cell_type": "code",
      "metadata": {
        "id": "OzkcaHOWL6Q8",
        "colab_type": "code",
        "colab": {
          "base_uri": "https://localhost:8080/",
          "height": 35
        },
        "outputId": "0e6426cc-c8e9-4eff-e7c3-c1645896abab"
      },
      "source": [
        "test_size = 30\n",
        "simulation_size = 10\n",
        "\n",
        "df_train = df_log.iloc[:-test_size]\n",
        "df_test = df_log.iloc[-test_size:]\n",
        "df.shape, df_train.shape, df_test.shape"
      ],
      "execution_count": 6,
      "outputs": [
        {
          "output_type": "execute_result",
          "data": {
            "text/plain": [
              "((1434, 44), (1404, 1), (30, 1))"
            ]
          },
          "metadata": {
            "tags": []
          },
          "execution_count": 6
        }
      ]
    },
    {
      "cell_type": "code",
      "metadata": {
        "id": "mshc-V9YL9LB",
        "colab_type": "code",
        "colab": {}
      },
      "source": [
        "def layer_norm(inputs, epsilon=1e-8):\n",
        "    mean, variance = tf.nn.moments(inputs, [-1], keep_dims=True)\n",
        "    normalized = (inputs - mean) / (tf.sqrt(variance + epsilon))\n",
        "\n",
        "    params_shape = inputs.get_shape()[-1:]\n",
        "    gamma = tf.get_variable('gamma', params_shape, tf.float32, tf.ones_initializer())\n",
        "    beta = tf.get_variable('beta', params_shape, tf.float32, tf.zeros_initializer())\n",
        "    \n",
        "    outputs = gamma * normalized + beta\n",
        "    return outputs\n",
        "\n",
        "def multihead_attn(queries, keys, q_masks, k_masks, future_binding, num_units, num_heads):\n",
        "    \n",
        "    T_q = tf.shape(queries)[1]                                      \n",
        "    T_k = tf.shape(keys)[1]                  \n",
        "\n",
        "    Q = tf.layers.dense(queries, num_units, name='Q')                              \n",
        "    K_V = tf.layers.dense(keys, 2*num_units, name='K_V')    \n",
        "    K, V = tf.split(K_V, 2, -1)        \n",
        "\n",
        "    Q_ = tf.concat(tf.split(Q, num_heads, axis=2), axis=0)                         \n",
        "    K_ = tf.concat(tf.split(K, num_heads, axis=2), axis=0)                    \n",
        "    V_ = tf.concat(tf.split(V, num_heads, axis=2), axis=0)                      \n",
        "\n",
        "    align = tf.matmul(Q_, tf.transpose(K_, [0,2,1]))                      \n",
        "    align = align / np.sqrt(K_.get_shape().as_list()[-1])                 \n",
        "\n",
        "    paddings = tf.fill(tf.shape(align), float('-inf'))                   \n",
        "\n",
        "    key_masks = k_masks                                                 \n",
        "    key_masks = tf.tile(key_masks, [num_heads, 1])                       \n",
        "    key_masks = tf.tile(tf.expand_dims(key_masks, 1), [1, T_q, 1])            \n",
        "    align = tf.where(tf.equal(key_masks, 0), paddings, align)       \n",
        "\n",
        "    if future_binding:\n",
        "        lower_tri = tf.ones([T_q, T_k])                                          \n",
        "        lower_tri = tf.linalg.LinearOperatorLowerTriangular(lower_tri).to_dense()  \n",
        "        masks = tf.tile(tf.expand_dims(lower_tri,0), [tf.shape(align)[0], 1, 1]) \n",
        "        align = tf.where(tf.equal(masks, 0), paddings, align)                      \n",
        "    \n",
        "    align = tf.nn.softmax(align)                                            \n",
        "    query_masks = tf.to_float(q_masks)                                             \n",
        "    query_masks = tf.tile(query_masks, [num_heads, 1])                             \n",
        "    query_masks = tf.tile(tf.expand_dims(query_masks, -1), [1, 1, T_k])            \n",
        "    align *= query_masks\n",
        "    \n",
        "    outputs = tf.matmul(align, V_)                                                 \n",
        "    outputs = tf.concat(tf.split(outputs, num_heads, axis=0), axis=2)             \n",
        "    outputs += queries                                                             \n",
        "    outputs = layer_norm(outputs)                                                 \n",
        "    return outputs\n",
        "\n",
        "\n",
        "def pointwise_feedforward(inputs, hidden_units, activation=None):\n",
        "    outputs = tf.layers.dense(inputs, 4*hidden_units, activation=activation)\n",
        "    outputs = tf.layers.dense(outputs, hidden_units, activation=None)\n",
        "    outputs += inputs\n",
        "    outputs = layer_norm(outputs)\n",
        "    return outputs\n",
        "\n",
        "\n",
        "def learned_position_encoding(inputs, mask, embed_dim):\n",
        "    T = tf.shape(inputs)[1]\n",
        "    outputs = tf.range(tf.shape(inputs)[1])                # (T_q)\n",
        "    outputs = tf.expand_dims(outputs, 0)                   # (1, T_q)\n",
        "    outputs = tf.tile(outputs, [tf.shape(inputs)[0], 1])   # (N, T_q)\n",
        "    outputs = embed_seq(outputs, T, embed_dim, zero_pad=False, scale=False)\n",
        "    return tf.expand_dims(tf.to_float(mask), -1) * outputs\n",
        "\n",
        "\n",
        "def sinusoidal_position_encoding(inputs, mask, repr_dim):\n",
        "    T = tf.shape(inputs)[1]\n",
        "    pos = tf.reshape(tf.range(0.0, tf.to_float(T), dtype=tf.float32), [-1, 1])\n",
        "    i = np.arange(0, repr_dim, 2, np.float32)\n",
        "    denom = np.reshape(np.power(10000.0, i / repr_dim), [1, -1])\n",
        "    enc = tf.expand_dims(tf.concat([tf.sin(pos / denom), tf.cos(pos / denom)], 1), 0)\n",
        "    return tf.tile(enc, [tf.shape(inputs)[0], 1, 1]) * tf.expand_dims(tf.to_float(mask), -1)\n",
        "\n",
        "def label_smoothing(inputs, epsilon=0.1):\n",
        "    C = inputs.get_shape().as_list()[-1]\n",
        "    return ((1 - epsilon) * inputs) + (epsilon / C)\n",
        "\n",
        "class Attention:\n",
        "    def __init__(self, size_layer, embedded_size, learning_rate, size, output_size,\n",
        "                 num_blocks = 2,\n",
        "                 num_heads = 8,\n",
        "                 min_freq = 50):\n",
        "        self.X = tf.placeholder(tf.float32, (None, None, size))\n",
        "        self.Y = tf.placeholder(tf.float32, (None, output_size))\n",
        "        \n",
        "        encoder_embedded = tf.layers.dense(self.X, embedded_size)\n",
        "        encoder_embedded = tf.nn.dropout(encoder_embedded, keep_prob = 0.8)\n",
        "        x_mean = tf.reduce_mean(self.X, axis = 2)\n",
        "        en_masks = tf.sign(x_mean)\n",
        "        encoder_embedded += sinusoidal_position_encoding(self.X, en_masks, embedded_size)\n",
        "        \n",
        "        for i in range(num_blocks):\n",
        "            with tf.variable_scope('encoder_self_attn_%d'%i,reuse=tf.AUTO_REUSE):\n",
        "                encoder_embedded = multihead_attn(queries = encoder_embedded,\n",
        "                                             keys = encoder_embedded,\n",
        "                                             q_masks = en_masks,\n",
        "                                             k_masks = en_masks,\n",
        "                                             future_binding = False,\n",
        "                                             num_units = size_layer,\n",
        "                                             num_heads = num_heads)\n",
        "\n",
        "            with tf.variable_scope('encoder_feedforward_%d'%i,reuse=tf.AUTO_REUSE):\n",
        "                encoder_embedded = pointwise_feedforward(encoder_embedded,\n",
        "                                                    embedded_size,\n",
        "                                                    activation = tf.nn.relu)\n",
        "                \n",
        "        self.logits = tf.layers.dense(encoder_embedded[-1], output_size)\n",
        "        self.cost = tf.reduce_mean(tf.square(self.Y - self.logits))\n",
        "        self.optimizer = tf.train.AdamOptimizer(learning_rate).minimize(\n",
        "            self.cost\n",
        "        )\n",
        "        \n",
        "def calculate_accuracy(real, predict):\n",
        "    real = np.array(real) + 1\n",
        "    predict = np.array(predict) + 1\n",
        "    percentage = 1 - np.sqrt(np.mean(np.square((real - predict) / real)))\n",
        "    return percentage * 100\n",
        "\n",
        "def anchor(signal, weight):\n",
        "    buffer = []\n",
        "    last = signal[0]\n",
        "    for i in signal:\n",
        "        smoothed_val = last * weight + (1 - weight) * i\n",
        "        buffer.append(smoothed_val)\n",
        "        last = smoothed_val\n",
        "    return buffer"
      ],
      "execution_count": 0,
      "outputs": []
    },
    {
      "cell_type": "code",
      "metadata": {
        "id": "gBYE3w5FMC1m",
        "colab_type": "code",
        "colab": {}
      },
      "source": [
        "num_layers = 1\n",
        "size_layer = 128\n",
        "timestamp = 5\n",
        "epoch = 300\n",
        "dropout_rate = 0.8\n",
        "future_day = test_size\n",
        "learning_rate = 0.001"
      ],
      "execution_count": 0,
      "outputs": []
    },
    {
      "cell_type": "code",
      "metadata": {
        "id": "OFKjNJegMHov",
        "colab_type": "code",
        "colab": {}
      },
      "source": [
        "def forecast():\n",
        "    tf.reset_default_graph()\n",
        "    modelnn = Attention(size_layer, size_layer, learning_rate, df_log.shape[1], df_log.shape[1])\n",
        "    sess = tf.InteractiveSession()\n",
        "    sess.run(tf.global_variables_initializer())\n",
        "    date_ori = pd.to_datetime(df.iloc[:, 0]).tolist()\n",
        "\n",
        "    pbar = tqdm(range(epoch), desc = 'train loop')\n",
        "    for i in pbar:\n",
        "        total_loss, total_acc = [], []\n",
        "        for k in range(0, df_train.shape[0] - 1, timestamp):\n",
        "            index = min(k + timestamp, df_train.shape[0] - 1)\n",
        "            batch_x = np.expand_dims(\n",
        "                df_train.iloc[k : index, :].values, axis = 0\n",
        "            )\n",
        "            batch_y = df_train.iloc[k + 1 : index + 1, :].values\n",
        "            logits, _, loss = sess.run(\n",
        "                [modelnn.logits, modelnn.optimizer, modelnn.cost],\n",
        "                feed_dict = {\n",
        "                    modelnn.X: batch_x,\n",
        "                    modelnn.Y: batch_y\n",
        "                },\n",
        "            ) \n",
        "            total_loss.append(loss)\n",
        "            total_acc.append(calculate_accuracy(batch_y[:, 0], logits[:, 0]))\n",
        "        pbar.set_postfix(cost = np.mean(total_loss), acc = np.mean(total_acc))\n",
        "    \n",
        "    future_day = test_size\n",
        "\n",
        "    output_predict = np.zeros((df_train.shape[0] + future_day, df_train.shape[1]))\n",
        "    output_predict[0] = df_train.iloc[0]\n",
        "    upper_b = (df_train.shape[0] // timestamp) * timestamp\n",
        "\n",
        "    for k in range(0, (df_train.shape[0] // timestamp) * timestamp, timestamp):\n",
        "        out_logits = sess.run(\n",
        "            modelnn.logits,\n",
        "            feed_dict = {\n",
        "                modelnn.X: np.expand_dims(\n",
        "                    df_train.iloc[k : k + timestamp], axis = 0\n",
        "                )\n",
        "            },\n",
        "        )\n",
        "        output_predict[k + 1 : k + timestamp + 1] = out_logits\n",
        "\n",
        "    if upper_b != df_train.shape[0]:\n",
        "        out_logits = sess.run(\n",
        "            modelnn.logits,\n",
        "            feed_dict = {\n",
        "                modelnn.X: np.expand_dims(df_train.iloc[upper_b:], axis = 0)\n",
        "            },\n",
        "        )\n",
        "        output_predict[upper_b + 1 : df_train.shape[0] + 1] = out_logits\n",
        "        future_day -= 1\n",
        "        date_ori.append(date_ori[-1] + timedelta(days = 1))\n",
        "    \n",
        "    for i in range(future_day):\n",
        "        o = output_predict[-future_day - timestamp + i:-future_day + i]\n",
        "        out_logits = sess.run(\n",
        "            modelnn.logits,\n",
        "            feed_dict = {\n",
        "                modelnn.X: np.expand_dims(o, axis = 0)\n",
        "            },\n",
        "        )\n",
        "        output_predict[-future_day + i] = out_logits[-1]\n",
        "        date_ori.append(date_ori[-1] + timedelta(days = 1))\n",
        "    \n",
        "    output_predict = minmax.inverse_transform(output_predict)\n",
        "    deep_future = anchor(output_predict[:, 0], 0.3)\n",
        "    \n",
        "    return deep_future[-test_size:]"
      ],
      "execution_count": 0,
      "outputs": []
    },
    {
      "cell_type": "code",
      "metadata": {
        "id": "GNEl9dQUML6E",
        "colab_type": "code",
        "colab": {
          "base_uri": "https://localhost:8080/",
          "height": 1000
        },
        "outputId": "281b23cd-b8fb-4727-d723-0a438983ee59"
      },
      "source": [
        "results = []\n",
        "for i in range(simulation_size):\n",
        "    print('simulation %d'%(i + 1))\n",
        "    results.append(forecast())"
      ],
      "execution_count": 10,
      "outputs": [
        {
          "output_type": "stream",
          "text": [
            "simulation 1\n",
            "WARNING:tensorflow:From <ipython-input-7-24d2a24c36ef>:91: dense (from tensorflow.python.layers.core) is deprecated and will be removed in a future version.\n",
            "Instructions for updating:\n",
            "Use keras.layers.dense instead.\n",
            "WARNING:tensorflow:From /usr/local/lib/python3.6/dist-packages/tensorflow/python/framework/op_def_library.py:263: colocate_with (from tensorflow.python.framework.ops) is deprecated and will be removed in a future version.\n",
            "Instructions for updating:\n",
            "Colocations handled automatically by placer.\n",
            "WARNING:tensorflow:From <ipython-input-7-24d2a24c36ef>:92: calling dropout (from tensorflow.python.ops.nn_ops) with keep_prob is deprecated and will be removed in a future version.\n",
            "Instructions for updating:\n",
            "Please use `rate` instead of `keep_prob`. Rate should be set to `rate = 1 - keep_prob`.\n",
            "WARNING:tensorflow:From <ipython-input-7-24d2a24c36ef>:73: to_float (from tensorflow.python.ops.math_ops) is deprecated and will be removed in a future version.\n",
            "Instructions for updating:\n",
            "Use tf.cast instead.\n",
            "WARNING:tensorflow:From /usr/local/lib/python3.6/dist-packages/tensorflow/python/ops/math_ops.py:3066: to_int32 (from tensorflow.python.ops.math_ops) is deprecated and will be removed in a future version.\n",
            "Instructions for updating:\n",
            "Use tf.cast instead.\n"
          ],
          "name": "stdout"
        },
        {
          "output_type": "stream",
          "text": [
            "train loop: 100%|██████████| 300/300 [09:58<00:00,  2.00s/it, acc=89.1, cost=0.0275]\n"
          ],
          "name": "stderr"
        },
        {
          "output_type": "stream",
          "text": [
            "simulation 2\n"
          ],
          "name": "stdout"
        },
        {
          "output_type": "stream",
          "text": [
            "/usr/local/lib/python3.6/dist-packages/tensorflow/python/client/session.py:1702: UserWarning: An interactive session is already active. This can cause out-of-memory errors in some cases. You must explicitly call `InteractiveSession.close()` to release resources held by the other session(s).\n",
            "  warnings.warn('An interactive session is already active. This can '\n",
            "train loop: 100%|██████████| 300/300 [10:29<00:00,  2.10s/it, acc=88.8, cost=0.029]\n"
          ],
          "name": "stderr"
        },
        {
          "output_type": "stream",
          "text": [
            "simulation 3\n"
          ],
          "name": "stdout"
        },
        {
          "output_type": "stream",
          "text": [
            "/usr/local/lib/python3.6/dist-packages/tensorflow/python/client/session.py:1702: UserWarning: An interactive session is already active. This can cause out-of-memory errors in some cases. You must explicitly call `InteractiveSession.close()` to release resources held by the other session(s).\n",
            "  warnings.warn('An interactive session is already active. This can '\n",
            "train loop: 100%|██████████| 300/300 [10:12<00:00,  2.04s/it, acc=88.9, cost=0.0285]\n"
          ],
          "name": "stderr"
        },
        {
          "output_type": "stream",
          "text": [
            "simulation 4\n"
          ],
          "name": "stdout"
        },
        {
          "output_type": "stream",
          "text": [
            "/usr/local/lib/python3.6/dist-packages/tensorflow/python/client/session.py:1702: UserWarning: An interactive session is already active. This can cause out-of-memory errors in some cases. You must explicitly call `InteractiveSession.close()` to release resources held by the other session(s).\n",
            "  warnings.warn('An interactive session is already active. This can '\n",
            "train loop: 100%|██████████| 300/300 [10:32<00:00,  2.11s/it, acc=88.9, cost=0.0286]\n"
          ],
          "name": "stderr"
        },
        {
          "output_type": "stream",
          "text": [
            "simulation 5\n"
          ],
          "name": "stdout"
        },
        {
          "output_type": "stream",
          "text": [
            "/usr/local/lib/python3.6/dist-packages/tensorflow/python/client/session.py:1702: UserWarning: An interactive session is already active. This can cause out-of-memory errors in some cases. You must explicitly call `InteractiveSession.close()` to release resources held by the other session(s).\n",
            "  warnings.warn('An interactive session is already active. This can '\n",
            "train loop: 100%|██████████| 300/300 [10:21<00:00,  2.07s/it, acc=88.7, cost=0.0299]\n"
          ],
          "name": "stderr"
        },
        {
          "output_type": "stream",
          "text": [
            "simulation 6\n"
          ],
          "name": "stdout"
        },
        {
          "output_type": "stream",
          "text": [
            "/usr/local/lib/python3.6/dist-packages/tensorflow/python/client/session.py:1702: UserWarning: An interactive session is already active. This can cause out-of-memory errors in some cases. You must explicitly call `InteractiveSession.close()` to release resources held by the other session(s).\n",
            "  warnings.warn('An interactive session is already active. This can '\n",
            "train loop: 100%|██████████| 300/300 [09:58<00:00,  1.99s/it, acc=88.9, cost=0.0288]\n"
          ],
          "name": "stderr"
        },
        {
          "output_type": "stream",
          "text": [
            "simulation 7\n"
          ],
          "name": "stdout"
        },
        {
          "output_type": "stream",
          "text": [
            "/usr/local/lib/python3.6/dist-packages/tensorflow/python/client/session.py:1702: UserWarning: An interactive session is already active. This can cause out-of-memory errors in some cases. You must explicitly call `InteractiveSession.close()` to release resources held by the other session(s).\n",
            "  warnings.warn('An interactive session is already active. This can '\n",
            "train loop: 100%|██████████| 300/300 [10:15<00:00,  2.05s/it, acc=87.1, cost=0.0391]\n"
          ],
          "name": "stderr"
        },
        {
          "output_type": "stream",
          "text": [
            "simulation 8\n"
          ],
          "name": "stdout"
        },
        {
          "output_type": "stream",
          "text": [
            "/usr/local/lib/python3.6/dist-packages/tensorflow/python/client/session.py:1702: UserWarning: An interactive session is already active. This can cause out-of-memory errors in some cases. You must explicitly call `InteractiveSession.close()` to release resources held by the other session(s).\n",
            "  warnings.warn('An interactive session is already active. This can '\n",
            "train loop: 100%|██████████| 300/300 [10:05<00:00,  2.02s/it, acc=85.4, cost=0.0539]\n"
          ],
          "name": "stderr"
        },
        {
          "output_type": "stream",
          "text": [
            "simulation 9\n"
          ],
          "name": "stdout"
        },
        {
          "output_type": "stream",
          "text": [
            "/usr/local/lib/python3.6/dist-packages/tensorflow/python/client/session.py:1702: UserWarning: An interactive session is already active. This can cause out-of-memory errors in some cases. You must explicitly call `InteractiveSession.close()` to release resources held by the other session(s).\n",
            "  warnings.warn('An interactive session is already active. This can '\n",
            "train loop: 100%|██████████| 300/300 [10:18<00:00,  2.06s/it, acc=88.9, cost=0.0286]\n"
          ],
          "name": "stderr"
        },
        {
          "output_type": "stream",
          "text": [
            "simulation 10\n"
          ],
          "name": "stdout"
        },
        {
          "output_type": "stream",
          "text": [
            "/usr/local/lib/python3.6/dist-packages/tensorflow/python/client/session.py:1702: UserWarning: An interactive session is already active. This can cause out-of-memory errors in some cases. You must explicitly call `InteractiveSession.close()` to release resources held by the other session(s).\n",
            "  warnings.warn('An interactive session is already active. This can '\n",
            "train loop: 100%|██████████| 300/300 [10:14<00:00,  2.05s/it, acc=89.1, cost=0.0277]\n"
          ],
          "name": "stderr"
        }
      ]
    },
    {
      "cell_type": "code",
      "metadata": {
        "id": "Gg7qJyyxMORr",
        "colab_type": "code",
        "colab": {
          "base_uri": "https://localhost:8080/",
          "height": 328
        },
        "outputId": "173cc1be-cab7-40df-af2f-6818b72d252c"
      },
      "source": [
        "accuracies = [calculate_accuracy(df['PX_LAST'].iloc[-test_size:].values, r) for r in results]\n",
        "\n",
        "plt.figure(figsize = (15, 5))\n",
        "for no, r in enumerate(results):\n",
        "    plt.plot(r, label = 'forecast %d'%(no + 1))\n",
        "plt.plot(df['PX_LAST'].iloc[-test_size:].values, label = 'true trend', c = 'black')\n",
        "plt.legend()\n",
        "plt.title('average accuracy: %.4f'%(np.mean(accuracies)))\n",
        "plt.show()"
      ],
      "execution_count": 11,
      "outputs": [
        {
          "output_type": "display_data",
          "data": {
            "image/png": "[encoded data removed]",
            "text/plain": [
              "<Figure size 1080x360 with 1 Axes>"
            ]
          },
          "metadata": {
            "tags": []
          }
        }
      ]
    },
    {
      "cell_type": "code",
      "metadata": {
        "id": "XCJqY_qjlC2M",
        "colab_type": "code",
        "colab": {}
      },
      "source": [
        ""
      ],
      "execution_count": 0,
      "outputs": []
    }
  ]
}