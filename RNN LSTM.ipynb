{
 "cells": [
  {
   "cell_type": "code",
   "execution_count": 1,
   "metadata": {
    "colab": {
     "base_uri": "https://localhost:8080/",
     "height": 35
    },
    "colab_type": "code",
    "id": "BDludw2gdci9",
    "outputId": "226fad21-5c15-40b1-c72b-fd61df7b38f8"
   },
   "outputs": [
    {
     "name": "stdout",
     "output_type": "stream",
     "text": [
      "Mounted at /content/drive/\n"
     ]
    }
   ],
   "source": [
    "from google.colab import drive\n",
    "drive.mount('/content/drive/', force_remount=True)"
   ]
  },
  {
   "cell_type": "code",
   "execution_count": 2,
   "metadata": {
    "colab": {
     "base_uri": "https://localhost:8080/",
     "height": 35
    },
    "colab_type": "code",
    "id": "jqZ2E8DAdo7W",
    "outputId": "223573ba-945f-473f-bdbd-27c3123e694d"
   },
   "outputs": [
    {
     "data": {
      "text/plain": [
       "'./drive/My Drive/Colab Notebooks/MHK US Equity.xlxs'"
      ]
     },
     "execution_count": 2,
     "metadata": {
      "tags": []
     },
     "output_type": "execute_result"
    }
   ],
   "source": [
    "'./drive/My Drive/Colab Notebooks/MHK US Equity.xlxs'"
   ]
  },
  {
   "cell_type": "code",
   "execution_count": 5,
   "metadata": {
    "colab": {
     "base_uri": "https://localhost:8080/",
     "height": 318
    },
    "colab_type": "code",
    "id": "eT5FUKXMd1WN",
    "outputId": "187bffa9-b2e7-4c5a-8c58-5da1fb38dafe"
   },
   "outputs": [
    {
     "data": {
      "text/html": [
       "<div>\n",
       "<style scoped>\n",
       "    .dataframe tbody tr th:only-of-type {\n",
       "        vertical-align: middle;\n",
       "    }\n",
       "\n",
       "    .dataframe tbody tr th {\n",
       "        vertical-align: top;\n",
       "    }\n",
       "\n",
       "    .dataframe thead th {\n",
       "        text-align: right;\n",
       "    }\n",
       "</style>\n",
       "<table border=\"1\" class=\"dataframe\">\n",
       "  <thead>\n",
       "    <tr style=\"text-align: right;\">\n",
       "      <th></th>\n",
       "      <th>DATA</th>\n",
       "      <th>PX_LAST</th>\n",
       "      <th>PX_ASK</th>\n",
       "      <th>PX_BID</th>\n",
       "      <th>NET_INCOME_MARGIN_ADJUSTED</th>\n",
       "      <th>WACC_COST_DEBT</th>\n",
       "      <th>BS_ST_BORROW</th>\n",
       "      <th>BS_LT_BORROW</th>\n",
       "      <th>IS_RD_EXPEND</th>\n",
       "      <th>PX_TO_BOOK_RATIO</th>\n",
       "      <th>IS_INT_EXPENSE</th>\n",
       "      <th>CF_FREE_CASH_FLOW</th>\n",
       "      <th>QUICK_RATIO</th>\n",
       "      <th>CUR_RATIO</th>\n",
       "      <th>WACC</th>\n",
       "      <th>WACC_COST_DEBT.1</th>\n",
       "      <th>WACC_COST_EQUITY</th>\n",
       "      <th>ROC_WACC_RATIO</th>\n",
       "      <th>BEST_NET_DEBT</th>\n",
       "      <th>NET_DEBT_TO_SHRHLDR_EQTY</th>\n",
       "      <th>NET_DEBT_%_CAPITAL</th>\n",
       "      <th>EBITDA</th>\n",
       "      <th>EBIT</th>\n",
       "      <th>BEST_NET_INCOME</th>\n",
       "      <th>EBITDA_TO_REVENUE</th>\n",
       "      <th>EBIT_TO_NET_SALES</th>\n",
       "      <th>BS_TOT_ASSET</th>\n",
       "      <th>SALES_REV_TURN</th>\n",
       "      <th>BEST_EST_PE_CUR_YR</th>\n",
       "      <th>BEST_PE_RATIO</th>\n",
       "      <th>CURR_ENTP_VAL</th>\n",
       "      <th>REVENUE_GROWTH_ADJUSTED_5Y_CAGR</th>\n",
       "      <th>SALES_GROWTH</th>\n",
       "      <th>EBITDA_GROWTH</th>\n",
       "      <th>GEO_GROW_EBITDA</th>\n",
       "      <th>NET_INC_GROWTH</th>\n",
       "      <th>GEO_GROW_NET_INC</th>\n",
       "      <th>BEST_EPS_NXT_YR</th>\n",
       "      <th>MOV_AVG_50D</th>\n",
       "      <th>MOV_AVG_200D</th>\n",
       "      <th>RSI_14D</th>\n",
       "      <th>RSI_30D</th>\n",
       "      <th>RSI_9D</th>\n",
       "      <th>PX_VOLUME</th>\n",
       "    </tr>\n",
       "  </thead>\n",
       "  <tbody>\n",
       "    <tr>\n",
       "      <th>0</th>\n",
       "      <td>2013-12-31</td>\n",
       "      <td>148.90</td>\n",
       "      <td>148.91</td>\n",
       "      <td>148.90</td>\n",
       "      <td>7.0948</td>\n",
       "      <td>3.3894</td>\n",
       "      <td>127.218</td>\n",
       "      <td>2132.79</td>\n",
       "      <td>0</td>\n",
       "      <td>2.4261</td>\n",
       "      <td>22.148</td>\n",
       "      <td>87.163</td>\n",
       "      <td>0.7979</td>\n",
       "      <td>2.3362</td>\n",
       "      <td>10.9074</td>\n",
       "      <td>3.3894</td>\n",
       "      <td>12.4772</td>\n",
       "      <td>0.58</td>\n",
       "      <td>0</td>\n",
       "      <td>49.3466</td>\n",
       "      <td>33.0416</td>\n",
       "      <td>237.317</td>\n",
       "      <td>150.988</td>\n",
       "      <td>0.0</td>\n",
       "      <td>12.3339</td>\n",
       "      <td>7.8472</td>\n",
       "      <td>8494.177</td>\n",
       "      <td>1924.104</td>\n",
       "      <td>0.0</td>\n",
       "      <td>0.0</td>\n",
       "      <td>13029.0296</td>\n",
       "      <td>0.0</td>\n",
       "      <td>34.0224</td>\n",
       "      <td>48.5664</td>\n",
       "      <td>0.0</td>\n",
       "      <td>42.5703</td>\n",
       "      <td>0.0</td>\n",
       "      <td>0.0</td>\n",
       "      <td>138.8840</td>\n",
       "      <td>123.2779</td>\n",
       "      <td>65.1380</td>\n",
       "      <td>65.1935</td>\n",
       "      <td>67.9928</td>\n",
       "      <td>533632</td>\n",
       "    </tr>\n",
       "    <tr>\n",
       "      <th>1</th>\n",
       "      <td>2014-01-01</td>\n",
       "      <td>148.90</td>\n",
       "      <td>148.91</td>\n",
       "      <td>148.90</td>\n",
       "      <td>7.0948</td>\n",
       "      <td>3.3894</td>\n",
       "      <td>127.218</td>\n",
       "      <td>2132.79</td>\n",
       "      <td>0</td>\n",
       "      <td>2.4261</td>\n",
       "      <td>22.148</td>\n",
       "      <td>87.163</td>\n",
       "      <td>0.7979</td>\n",
       "      <td>2.3362</td>\n",
       "      <td>10.9074</td>\n",
       "      <td>3.3894</td>\n",
       "      <td>12.4772</td>\n",
       "      <td>0.58</td>\n",
       "      <td>0</td>\n",
       "      <td>49.3466</td>\n",
       "      <td>33.0416</td>\n",
       "      <td>237.317</td>\n",
       "      <td>150.988</td>\n",
       "      <td>0.0</td>\n",
       "      <td>12.3339</td>\n",
       "      <td>7.8472</td>\n",
       "      <td>8494.177</td>\n",
       "      <td>1924.104</td>\n",
       "      <td>0.0</td>\n",
       "      <td>0.0</td>\n",
       "      <td>13029.0296</td>\n",
       "      <td>0.0</td>\n",
       "      <td>34.0224</td>\n",
       "      <td>48.5664</td>\n",
       "      <td>0.0</td>\n",
       "      <td>42.5703</td>\n",
       "      <td>0.0</td>\n",
       "      <td>0.0</td>\n",
       "      <td>138.8840</td>\n",
       "      <td>123.2779</td>\n",
       "      <td>65.1380</td>\n",
       "      <td>65.1935</td>\n",
       "      <td>67.9928</td>\n",
       "      <td>533632</td>\n",
       "    </tr>\n",
       "    <tr>\n",
       "      <th>2</th>\n",
       "      <td>2014-01-02</td>\n",
       "      <td>149.11</td>\n",
       "      <td>149.10</td>\n",
       "      <td>149.07</td>\n",
       "      <td>7.0948</td>\n",
       "      <td>3.3894</td>\n",
       "      <td>127.218</td>\n",
       "      <td>2132.79</td>\n",
       "      <td>0</td>\n",
       "      <td>2.4295</td>\n",
       "      <td>22.148</td>\n",
       "      <td>87.163</td>\n",
       "      <td>0.7979</td>\n",
       "      <td>2.3362</td>\n",
       "      <td>10.9074</td>\n",
       "      <td>3.3894</td>\n",
       "      <td>12.4772</td>\n",
       "      <td>0.58</td>\n",
       "      <td>0</td>\n",
       "      <td>49.3466</td>\n",
       "      <td>33.0416</td>\n",
       "      <td>237.317</td>\n",
       "      <td>150.988</td>\n",
       "      <td>0.0</td>\n",
       "      <td>12.3339</td>\n",
       "      <td>7.8472</td>\n",
       "      <td>8494.177</td>\n",
       "      <td>1924.104</td>\n",
       "      <td>0.0</td>\n",
       "      <td>0.0</td>\n",
       "      <td>13044.2809</td>\n",
       "      <td>0.0</td>\n",
       "      <td>34.0224</td>\n",
       "      <td>48.5664</td>\n",
       "      <td>0.0</td>\n",
       "      <td>42.5703</td>\n",
       "      <td>0.0</td>\n",
       "      <td>0.0</td>\n",
       "      <td>139.3660</td>\n",
       "      <td>123.4603</td>\n",
       "      <td>65.4500</td>\n",
       "      <td>65.3393</td>\n",
       "      <td>68.4927</td>\n",
       "      <td>676997</td>\n",
       "    </tr>\n",
       "    <tr>\n",
       "      <th>3</th>\n",
       "      <td>2014-01-03</td>\n",
       "      <td>149.45</td>\n",
       "      <td>149.48</td>\n",
       "      <td>149.47</td>\n",
       "      <td>7.0948</td>\n",
       "      <td>3.3894</td>\n",
       "      <td>127.218</td>\n",
       "      <td>2132.79</td>\n",
       "      <td>0</td>\n",
       "      <td>2.4351</td>\n",
       "      <td>22.148</td>\n",
       "      <td>87.163</td>\n",
       "      <td>0.7979</td>\n",
       "      <td>2.3362</td>\n",
       "      <td>10.9074</td>\n",
       "      <td>3.3894</td>\n",
       "      <td>12.4772</td>\n",
       "      <td>0.58</td>\n",
       "      <td>0</td>\n",
       "      <td>49.3466</td>\n",
       "      <td>33.0416</td>\n",
       "      <td>237.317</td>\n",
       "      <td>150.988</td>\n",
       "      <td>0.0</td>\n",
       "      <td>12.3339</td>\n",
       "      <td>7.8472</td>\n",
       "      <td>8494.177</td>\n",
       "      <td>1924.104</td>\n",
       "      <td>0.0</td>\n",
       "      <td>0.0</td>\n",
       "      <td>13068.9733</td>\n",
       "      <td>0.0</td>\n",
       "      <td>34.0224</td>\n",
       "      <td>48.5664</td>\n",
       "      <td>0.0</td>\n",
       "      <td>42.5703</td>\n",
       "      <td>0.0</td>\n",
       "      <td>0.0</td>\n",
       "      <td>139.8022</td>\n",
       "      <td>123.6346</td>\n",
       "      <td>65.9809</td>\n",
       "      <td>65.5808</td>\n",
       "      <td>69.3643</td>\n",
       "      <td>521291</td>\n",
       "    </tr>\n",
       "    <tr>\n",
       "      <th>4</th>\n",
       "      <td>2014-01-06</td>\n",
       "      <td>147.34</td>\n",
       "      <td>147.40</td>\n",
       "      <td>147.36</td>\n",
       "      <td>7.0948</td>\n",
       "      <td>3.3894</td>\n",
       "      <td>127.218</td>\n",
       "      <td>2132.79</td>\n",
       "      <td>0</td>\n",
       "      <td>2.4007</td>\n",
       "      <td>22.148</td>\n",
       "      <td>87.163</td>\n",
       "      <td>0.7979</td>\n",
       "      <td>2.3362</td>\n",
       "      <td>10.9074</td>\n",
       "      <td>3.3894</td>\n",
       "      <td>12.4772</td>\n",
       "      <td>0.58</td>\n",
       "      <td>0</td>\n",
       "      <td>49.3466</td>\n",
       "      <td>33.0416</td>\n",
       "      <td>237.317</td>\n",
       "      <td>150.988</td>\n",
       "      <td>0.0</td>\n",
       "      <td>12.3339</td>\n",
       "      <td>7.8472</td>\n",
       "      <td>8494.177</td>\n",
       "      <td>1924.104</td>\n",
       "      <td>0.0</td>\n",
       "      <td>0.0</td>\n",
       "      <td>12915.7349</td>\n",
       "      <td>0.0</td>\n",
       "      <td>34.0224</td>\n",
       "      <td>48.5664</td>\n",
       "      <td>0.0</td>\n",
       "      <td>42.5703</td>\n",
       "      <td>0.0</td>\n",
       "      <td>0.0</td>\n",
       "      <td>140.1838</td>\n",
       "      <td>123.8148</td>\n",
       "      <td>59.8358</td>\n",
       "      <td>62.7730</td>\n",
       "      <td>58.1367</td>\n",
       "      <td>470527</td>\n",
       "    </tr>\n",
       "  </tbody>\n",
       "</table>\n",
       "</div>"
      ],
      "text/plain": [
       "        DATA  PX_LAST  PX_ASK  PX_BID  ...  RSI_14D  RSI_30D   RSI_9D  PX_VOLUME\n",
       "0 2013-12-31   148.90  148.91  148.90  ...  65.1380  65.1935  67.9928     533632\n",
       "1 2014-01-01   148.90  148.91  148.90  ...  65.1380  65.1935  67.9928     533632\n",
       "2 2014-01-02   149.11  149.10  149.07  ...  65.4500  65.3393  68.4927     676997\n",
       "3 2014-01-03   149.45  149.48  149.47  ...  65.9809  65.5808  69.3643     521291\n",
       "4 2014-01-06   147.34  147.40  147.36  ...  59.8358  62.7730  58.1367     470527\n",
       "\n",
       "[5 rows x 44 columns]"
      ]
     },
     "execution_count": 5,
     "metadata": {
      "tags": []
     },
     "output_type": "execute_result"
    }
   ],
   "source": [
    "df = pd.read_excel(r'./drive/My Drive/Colab Notebooks/MHK US Equity.xlsx')\n",
    "df_ori = pd.to_datetime(df.iloc[:, 0]).tolist()\n",
    "df.head()"
   ]
  },
  {
   "cell_type": "code",
   "execution_count": 4,
   "metadata": {
    "colab": {
     "base_uri": "https://localhost:8080/",
     "height": 286
    },
    "colab_type": "code",
    "id": "_Un5Kphbd5JT",
    "outputId": "c74f1548-2f87-440b-e32f-49e9528feeba"
   },
   "outputs": [
    {
     "name": "stderr",
     "output_type": "stream",
     "text": [
      "/usr/local/lib/python3.6/dist-packages/tensorflow/python/framework/dtypes.py:526: FutureWarning: Passing (type, 1) or '1type' as a synonym of type is deprecated; in a future version of numpy, it will be understood as (type, (1,)) / '(1,)type'.\n",
      "  _np_qint8 = np.dtype([(\"qint8\", np.int8, 1)])\n",
      "/usr/local/lib/python3.6/dist-packages/tensorflow/python/framework/dtypes.py:527: FutureWarning: Passing (type, 1) or '1type' as a synonym of type is deprecated; in a future version of numpy, it will be understood as (type, (1,)) / '(1,)type'.\n",
      "  _np_quint8 = np.dtype([(\"quint8\", np.uint8, 1)])\n",
      "/usr/local/lib/python3.6/dist-packages/tensorflow/python/framework/dtypes.py:528: FutureWarning: Passing (type, 1) or '1type' as a synonym of type is deprecated; in a future version of numpy, it will be understood as (type, (1,)) / '(1,)type'.\n",
      "  _np_qint16 = np.dtype([(\"qint16\", np.int16, 1)])\n",
      "/usr/local/lib/python3.6/dist-packages/tensorflow/python/framework/dtypes.py:529: FutureWarning: Passing (type, 1) or '1type' as a synonym of type is deprecated; in a future version of numpy, it will be understood as (type, (1,)) / '(1,)type'.\n",
      "  _np_quint16 = np.dtype([(\"quint16\", np.uint16, 1)])\n",
      "/usr/local/lib/python3.6/dist-packages/tensorflow/python/framework/dtypes.py:530: FutureWarning: Passing (type, 1) or '1type' as a synonym of type is deprecated; in a future version of numpy, it will be understood as (type, (1,)) / '(1,)type'.\n",
      "  _np_qint32 = np.dtype([(\"qint32\", np.int32, 1)])\n",
      "/usr/local/lib/python3.6/dist-packages/tensorflow/python/framework/dtypes.py:535: FutureWarning: Passing (type, 1) or '1type' as a synonym of type is deprecated; in a future version of numpy, it will be understood as (type, (1,)) / '(1,)type'.\n",
      "  np_resource = np.dtype([(\"resource\", np.ubyte, 1)])\n",
      "/usr/local/lib/python3.6/dist-packages/statsmodels/tools/_testing.py:19: FutureWarning: pandas.util.testing is deprecated. Use the functions in the public API at pandas.testing instead.\n",
      "  import pandas.util.testing as tm\n"
     ]
    }
   ],
   "source": [
    "from __future__ import print_function, division\n",
    "from tensorflow.contrib import rnn\n",
    "import numpy as np\n",
    "import tensorflow as tf\n",
    "import matplotlib.pyplot as plt\n",
    "import numpy as np\n",
    "import matplotlib.pyplot as plt\n",
    "import seaborn as sns\n",
    "import pandas as pd\n",
    "from sklearn.preprocessing import MinMaxScaler\n",
    "from datetime import datetime\n",
    "from datetime import timedelta\n",
    "from tqdm import tqdm\n",
    "sns.set()"
   ]
  },
  {
   "cell_type": "code",
   "execution_count": 6,
   "metadata": {
    "colab": {
     "base_uri": "https://localhost:8080/",
     "height": 206
    },
    "colab_type": "code",
    "id": "3a-hl-qfd9dg",
    "outputId": "533efea1-d5a6-4920-b955-752e23bad0d9"
   },
   "outputs": [
    {
     "data": {
      "text/html": [
       "<div>\n",
       "<style scoped>\n",
       "    .dataframe tbody tr th:only-of-type {\n",
       "        vertical-align: middle;\n",
       "    }\n",
       "\n",
       "    .dataframe tbody tr th {\n",
       "        vertical-align: top;\n",
       "    }\n",
       "\n",
       "    .dataframe thead th {\n",
       "        text-align: right;\n",
       "    }\n",
       "</style>\n",
       "<table border=\"1\" class=\"dataframe\">\n",
       "  <thead>\n",
       "    <tr style=\"text-align: right;\">\n",
       "      <th></th>\n",
       "      <th>0</th>\n",
       "    </tr>\n",
       "  </thead>\n",
       "  <tbody>\n",
       "    <tr>\n",
       "      <th>0</th>\n",
       "      <td>0.216807</td>\n",
       "    </tr>\n",
       "    <tr>\n",
       "      <th>1</th>\n",
       "      <td>0.216807</td>\n",
       "    </tr>\n",
       "    <tr>\n",
       "      <th>2</th>\n",
       "      <td>0.217788</td>\n",
       "    </tr>\n",
       "    <tr>\n",
       "      <th>3</th>\n",
       "      <td>0.220095</td>\n",
       "    </tr>\n",
       "    <tr>\n",
       "      <th>4</th>\n",
       "      <td>0.207925</td>\n",
       "    </tr>\n",
       "  </tbody>\n",
       "</table>\n",
       "</div>"
      ],
      "text/plain": [
       "          0\n",
       "0  0.216807\n",
       "1  0.216807\n",
       "2  0.217788\n",
       "3  0.220095\n",
       "4  0.207925"
      ]
     },
     "execution_count": 6,
     "metadata": {
      "tags": []
     },
     "output_type": "execute_result"
    }
   ],
   "source": [
    "minmax = MinMaxScaler().fit(df.iloc[:, 3:4].astype('float32')) # Close index\n",
    "df_log = minmax.transform(df.iloc[:, 3:4].astype('float32')) # Close index\n",
    "df_log = pd.DataFrame(df_log)\n",
    "df_log.head()"
   ]
  },
  {
   "cell_type": "code",
   "execution_count": 7,
   "metadata": {
    "colab": {
     "base_uri": "https://localhost:8080/",
     "height": 35
    },
    "colab_type": "code",
    "id": "YpAK86oeetLY",
    "outputId": "63ddb0c7-b033-4458-a467-c5406b12443f"
   },
   "outputs": [
    {
     "data": {
      "text/plain": [
       "((1434, 44), (1404, 1), (30, 1))"
      ]
     },
     "execution_count": 7,
     "metadata": {
      "tags": []
     },
     "output_type": "execute_result"
    }
   ],
   "source": [
    "\n",
    "test_size = 30\n",
    "simulation_size = 10\n",
    "\n",
    "df_train = df_log.iloc[:-test_size]\n",
    "df_test = df_log.iloc[-test_size:]\n",
    "df.shape, df_train.shape, df_test.shape"
   ]
  },
  {
   "cell_type": "code",
   "execution_count": 0,
   "metadata": {
    "colab": {},
    "colab_type": "code",
    "id": "WbOldOyoe7pj"
   },
   "outputs": [],
   "source": [
    "class Model:\n",
    "    def __init__(\n",
    "        self,\n",
    "        learning_rate,\n",
    "        num_layers,\n",
    "        size,\n",
    "        size_layer,\n",
    "        output_size,\n",
    "        forget_bias = 0.1,\n",
    "        lambda_coeff = 0.5\n",
    "    ):\n",
    "        def lstm_cell(size_layer):\n",
    "            return tf.contrib.rnn.LSTMCell(size_layer, state_is_tuple = False)\n",
    "\n",
    "        rnn_cells = tf.contrib.rnn.MultiRNNCell(\n",
    "            [lstm_cell(size_layer) for _ in range(num_layers)],\n",
    "            state_is_tuple = False,\n",
    "        )\n",
    "        self.X = tf.placeholder(tf.float32, (None, None, size))\n",
    "        self.Y = tf.placeholder(tf.float32, (None, output_size))\n",
    "        drop = tf.contrib.rnn.DropoutWrapper(\n",
    "            rnn_cells, output_keep_prob = forget_bias\n",
    "        )\n",
    "        self.hidden_layer = tf.placeholder(\n",
    "            tf.float32, (None, num_layers * 2 * size_layer)\n",
    "        )\n",
    "        _, last_state = tf.nn.dynamic_rnn(\n",
    "            drop, self.X, initial_state = self.hidden_layer, dtype = tf.float32\n",
    "        )\n",
    "        \n",
    "        self.z_mean = tf.layers.dense(last_state, size)\n",
    "        self.z_log_sigma = tf.layers.dense(last_state, size)\n",
    "        \n",
    "        epsilon = tf.random_normal(tf.shape(self.z_log_sigma))\n",
    "        self.z_vector = self.z_mean + tf.exp(self.z_log_sigma)\n",
    "        \n",
    "        with tf.variable_scope('decoder', reuse = tf.AUTO_REUSE):\n",
    "            rnn_cells_dec = tf.contrib.rnn.MultiRNNCell(\n",
    "                [lstm_cell(size_layer) for _ in range(num_layers)], state_is_tuple = False\n",
    "            )\n",
    "            drop_dec = tf.contrib.rnn.DropoutWrapper(\n",
    "                rnn_cells_dec, output_keep_prob = forget_bias\n",
    "            )\n",
    "            x = tf.concat([tf.expand_dims(self.z_vector, axis=0), self.X], axis = 1)\n",
    "            self.outputs, self.last_state = tf.nn.dynamic_rnn(\n",
    "                drop_dec, self.X, initial_state = last_state, dtype = tf.float32\n",
    "            )\n",
    "            \n",
    "        self.logits = tf.layers.dense(self.outputs[-1], output_size)\n",
    "        self.lambda_coeff = lambda_coeff\n",
    "        \n",
    "        self.kl_loss = -0.5 * tf.reduce_sum(1.0 + 2 * self.z_log_sigma - self.z_mean ** 2 - \n",
    "                             tf.exp(2 * self.z_log_sigma), 1)\n",
    "        self.kl_loss = tf.scalar_mul(self.lambda_coeff, self.kl_loss)\n",
    "        self.cost = tf.reduce_mean(tf.square(self.Y - self.logits) + self.kl_loss)\n",
    "        self.optimizer = tf.train.AdamOptimizer(learning_rate).minimize(\n",
    "            self.cost\n",
    "        )\n",
    "        \n",
    "def calculate_accuracy(real, predict):\n",
    "    real = np.array(real) + 1\n",
    "    predict = np.array(predict) + 1\n",
    "    percentage = 1 - np.sqrt(np.mean(np.square((real - predict) / real)))\n",
    "    return percentage * 100\n",
    "\n",
    "def anchor(signal, weight):\n",
    "    buffer = []\n",
    "    last = signal[0]\n",
    "    for i in signal:\n",
    "        smoothed_val = last * weight + (1 - weight) * i\n",
    "        buffer.append(smoothed_val)\n",
    "        last = smoothed_val\n",
    "    return buffer"
   ]
  },
  {
   "cell_type": "code",
   "execution_count": 0,
   "metadata": {
    "colab": {},
    "colab_type": "code",
    "id": "36dTudw1fD8h"
   },
   "outputs": [],
   "source": [
    "\n",
    "num_layers = 1\n",
    "size_layer = 128\n",
    "timestamp = 5\n",
    "epoch = 300\n",
    "dropout_rate = 0.8\n",
    "future_day = test_size\n",
    "learning_rate = 0.01"
   ]
  },
  {
   "cell_type": "code",
   "execution_count": 0,
   "metadata": {
    "colab": {},
    "colab_type": "code",
    "id": "m9u5WeiYfGuo"
   },
   "outputs": [],
   "source": [
    "def forecast():\n",
    "    tf.compat.v1.reset_default_graph()\n",
    "    modelnn = Model(\n",
    "        learning_rate, num_layers, df_log.shape[1], size_layer, df_log.shape[1], dropout_rate\n",
    "    )\n",
    "    sess = tf.InteractiveSession()\n",
    "    sess.run(tf.global_variables_initializer())\n",
    "    date_ori = pd.to_datetime(df.iloc[:, 0]).tolist()\n",
    "\n",
    "    pbar = tqdm(range(epoch), desc = 'train loop')\n",
    "    for i in pbar:\n",
    "        init_value = np.zeros((1, num_layers * 2 * size_layer))\n",
    "        total_loss, total_acc = [], []\n",
    "        for k in range(0, df_train.shape[0] - 1, timestamp):\n",
    "            index = min(k + timestamp, df_train.shape[0] - 1)\n",
    "            batch_x = np.expand_dims(\n",
    "                df_train.iloc[k : index, :].values, axis = 0\n",
    "            )\n",
    "            batch_x = np.random.binomial(1, 0.5, batch_x.shape) * batch_x\n",
    "            batch_y = df_train.iloc[k + 1 : index + 1, :].values\n",
    "            logits, last_state, _, loss = sess.run(\n",
    "                [modelnn.logits, modelnn.last_state, modelnn.optimizer, modelnn.cost],\n",
    "                feed_dict = {\n",
    "                    modelnn.X: batch_x,\n",
    "                    modelnn.Y: batch_y,\n",
    "                    modelnn.hidden_layer: init_value,\n",
    "                },\n",
    "            )        \n",
    "            init_value = last_state\n",
    "            total_loss.append(loss)\n",
    "            total_acc.append(calculate_accuracy(batch_y[:, 0], logits[:, 0]))\n",
    "        pbar.set_postfix(cost = np.mean(total_loss), acc = np.mean(total_acc))\n",
    "    \n",
    "    future_day = test_size\n",
    "\n",
    "    output_predict = np.zeros((df_train.shape[0] + future_day, df_train.shape[1]))\n",
    "    output_predict[0] = df_train.iloc[0]\n",
    "    upper_b = (df_train.shape[0] // timestamp) * timestamp\n",
    "    init_value = np.zeros((1, num_layers * 2 * size_layer))\n",
    "\n",
    "    for k in range(0, (df_train.shape[0] // timestamp) * timestamp, timestamp):\n",
    "        out_logits, last_state = sess.run(\n",
    "            [modelnn.logits, modelnn.last_state],\n",
    "            feed_dict = {\n",
    "                modelnn.X: np.expand_dims(\n",
    "                    df_train.iloc[k : k + timestamp], axis = 0\n",
    "                ),\n",
    "                modelnn.hidden_layer: init_value,\n",
    "            },\n",
    "        )\n",
    "        init_value = last_state\n",
    "        output_predict[k + 1 : k + timestamp + 1] = out_logits\n",
    "\n",
    "    if upper_b != df_train.shape[0]:\n",
    "        out_logits, last_state = sess.run(\n",
    "            [modelnn.logits, modelnn.last_state],\n",
    "            feed_dict = {\n",
    "                modelnn.X: np.expand_dims(df_train.iloc[upper_b:], axis = 0),\n",
    "                modelnn.hidden_layer: init_value,\n",
    "            },\n",
    "        )\n",
    "        output_predict[upper_b + 1 : df_train.shape[0] + 1] = out_logits\n",
    "        future_day -= 1\n",
    "        date_ori.append(date_ori[-1] + timedelta(days = 1))\n",
    "\n",
    "    init_value = last_state\n",
    "    \n",
    "    for i in range(future_day):\n",
    "        o = output_predict[-future_day - timestamp + i:-future_day + i]\n",
    "        out_logits, last_state = sess.run(\n",
    "            [modelnn.logits, modelnn.last_state],\n",
    "            feed_dict = {\n",
    "                modelnn.X: np.expand_dims(o, axis = 0),\n",
    "                modelnn.hidden_layer: init_value,\n",
    "            },\n",
    "        )\n",
    "        init_value = last_state\n",
    "        output_predict[-future_day + i] = out_logits[-1]\n",
    "        date_ori.append(date_ori[-1] + timedelta(days = 1))\n",
    "    \n",
    "    output_predict = minmax.inverse_transform(output_predict)\n",
    "    deep_future = anchor(output_predict[:, 0], 0.3)\n",
    "    \n",
    "    return deep_future[-test_size:]"
   ]
  },
  {
   "cell_type": "code",
   "execution_count": 25,
   "metadata": {
    "colab": {
     "base_uri": "https://localhost:8080/",
     "height": 1000
    },
    "colab_type": "code",
    "id": "pbOk_OClfLAZ",
    "outputId": "01ab4c56-b14c-4837-c8e6-719013d59101"
   },
   "outputs": [
    {
     "name": "stdout",
     "output_type": "stream",
     "text": [
      "simulation 1\n",
      "WARNING:tensorflow:<tensorflow.python.ops.rnn_cell_impl.LSTMCell object at 0x7f30b7d0a9e8>: Using a concatenated state is slower and will soon be deprecated.  Use state_is_tuple=True.\n",
      "WARNING:tensorflow:<tensorflow.python.ops.rnn_cell_impl.LSTMCell object at 0x7f30b7b88978>: Using a concatenated state is slower and will soon be deprecated.  Use state_is_tuple=True.\n"
     ]
    },
    {
     "name": "stderr",
     "output_type": "stream",
     "text": [
      "/usr/local/lib/python3.6/dist-packages/tensorflow/python/client/session.py:1702: UserWarning: An interactive session is already active. This can cause out-of-memory errors in some cases. You must explicitly call `InteractiveSession.close()` to release resources held by the other session(s).\n",
      "  warnings.warn('An interactive session is already active. This can '\n",
      "train loop: 100%|██████████| 300/300 [09:36<00:00,  1.92s/it, acc=93.8, cost=0.0118]\n"
     ]
    },
    {
     "name": "stdout",
     "output_type": "stream",
     "text": [
      "simulation 2\n",
      "WARNING:tensorflow:<tensorflow.python.ops.rnn_cell_impl.LSTMCell object at 0x7f30b7d0aba8>: Using a concatenated state is slower and will soon be deprecated.  Use state_is_tuple=True.\n",
      "WARNING:tensorflow:<tensorflow.python.ops.rnn_cell_impl.LSTMCell object at 0x7f30b576f7b8>: Using a concatenated state is slower and will soon be deprecated.  Use state_is_tuple=True.\n"
     ]
    },
    {
     "name": "stderr",
     "output_type": "stream",
     "text": [
      "/usr/local/lib/python3.6/dist-packages/tensorflow/python/client/session.py:1702: UserWarning: An interactive session is already active. This can cause out-of-memory errors in some cases. You must explicitly call `InteractiveSession.close()` to release resources held by the other session(s).\n",
      "  warnings.warn('An interactive session is already active. This can '\n",
      "train loop: 100%|██████████| 300/300 [09:12<00:00,  1.84s/it, acc=95, cost=0.0076]\n"
     ]
    },
    {
     "name": "stdout",
     "output_type": "stream",
     "text": [
      "simulation 3\n",
      "WARNING:tensorflow:<tensorflow.python.ops.rnn_cell_impl.LSTMCell object at 0x7f30becc6908>: Using a concatenated state is slower and will soon be deprecated.  Use state_is_tuple=True.\n",
      "WARNING:tensorflow:<tensorflow.python.ops.rnn_cell_impl.LSTMCell object at 0x7f30b32bf3c8>: Using a concatenated state is slower and will soon be deprecated.  Use state_is_tuple=True.\n"
     ]
    },
    {
     "name": "stderr",
     "output_type": "stream",
     "text": [
      "/usr/local/lib/python3.6/dist-packages/tensorflow/python/client/session.py:1702: UserWarning: An interactive session is already active. This can cause out-of-memory errors in some cases. You must explicitly call `InteractiveSession.close()` to release resources held by the other session(s).\n",
      "  warnings.warn('An interactive session is already active. This can '\n",
      "train loop: 100%|██████████| 300/300 [09:13<00:00,  1.85s/it, acc=93.5, cost=0.0137]\n"
     ]
    },
    {
     "name": "stdout",
     "output_type": "stream",
     "text": [
      "simulation 4\n",
      "WARNING:tensorflow:<tensorflow.python.ops.rnn_cell_impl.LSTMCell object at 0x7f30b4d31da0>: Using a concatenated state is slower and will soon be deprecated.  Use state_is_tuple=True.\n",
      "WARNING:tensorflow:<tensorflow.python.ops.rnn_cell_impl.LSTMCell object at 0x7f30b0e42a90>: Using a concatenated state is slower and will soon be deprecated.  Use state_is_tuple=True.\n"
     ]
    },
    {
     "name": "stderr",
     "output_type": "stream",
     "text": [
      "/usr/local/lib/python3.6/dist-packages/tensorflow/python/client/session.py:1702: UserWarning: An interactive session is already active. This can cause out-of-memory errors in some cases. You must explicitly call `InteractiveSession.close()` to release resources held by the other session(s).\n",
      "  warnings.warn('An interactive session is already active. This can '\n",
      "train loop: 100%|██████████| 300/300 [09:18<00:00,  1.86s/it, acc=93.9, cost=0.0116]\n"
     ]
    },
    {
     "name": "stdout",
     "output_type": "stream",
     "text": [
      "simulation 5\n",
      "WARNING:tensorflow:<tensorflow.python.ops.rnn_cell_impl.LSTMCell object at 0x7f30b2859550>: Using a concatenated state is slower and will soon be deprecated.  Use state_is_tuple=True.\n",
      "WARNING:tensorflow:<tensorflow.python.ops.rnn_cell_impl.LSTMCell object at 0x7f30ae9baa90>: Using a concatenated state is slower and will soon be deprecated.  Use state_is_tuple=True.\n"
     ]
    },
    {
     "name": "stderr",
     "output_type": "stream",
     "text": [
      "/usr/local/lib/python3.6/dist-packages/tensorflow/python/client/session.py:1702: UserWarning: An interactive session is already active. This can cause out-of-memory errors in some cases. You must explicitly call `InteractiveSession.close()` to release resources held by the other session(s).\n",
      "  warnings.warn('An interactive session is already active. This can '\n",
      "train loop: 100%|██████████| 300/300 [09:27<00:00,  1.89s/it, acc=94.7, cost=0.00856]\n"
     ]
    },
    {
     "name": "stdout",
     "output_type": "stream",
     "text": [
      "simulation 6\n",
      "WARNING:tensorflow:<tensorflow.python.ops.rnn_cell_impl.LSTMCell object at 0x7f30b0c3af98>: Using a concatenated state is slower and will soon be deprecated.  Use state_is_tuple=True.\n",
      "WARNING:tensorflow:<tensorflow.python.ops.rnn_cell_impl.LSTMCell object at 0x7f30ac5316a0>: Using a concatenated state is slower and will soon be deprecated.  Use state_is_tuple=True.\n"
     ]
    },
    {
     "name": "stderr",
     "output_type": "stream",
     "text": [
      "/usr/local/lib/python3.6/dist-packages/tensorflow/python/client/session.py:1702: UserWarning: An interactive session is already active. This can cause out-of-memory errors in some cases. You must explicitly call `InteractiveSession.close()` to release resources held by the other session(s).\n",
      "  warnings.warn('An interactive session is already active. This can '\n",
      "train loop: 100%|██████████| 300/300 [09:02<00:00,  1.81s/it, acc=94.5, cost=0.00931]\n"
     ]
    },
    {
     "name": "stdout",
     "output_type": "stream",
     "text": [
      "simulation 7\n",
      "WARNING:tensorflow:<tensorflow.python.ops.rnn_cell_impl.LSTMCell object at 0x7f30ae82df98>: Using a concatenated state is slower and will soon be deprecated.  Use state_is_tuple=True.\n",
      "WARNING:tensorflow:<tensorflow.python.ops.rnn_cell_impl.LSTMCell object at 0x7f30aa0af7b8>: Using a concatenated state is slower and will soon be deprecated.  Use state_is_tuple=True.\n"
     ]
    },
    {
     "name": "stderr",
     "output_type": "stream",
     "text": [
      "/usr/local/lib/python3.6/dist-packages/tensorflow/python/client/session.py:1702: UserWarning: An interactive session is already active. This can cause out-of-memory errors in some cases. You must explicitly call `InteractiveSession.close()` to release resources held by the other session(s).\n",
      "  warnings.warn('An interactive session is already active. This can '\n",
      "train loop: 100%|██████████| 300/300 [08:56<00:00,  1.79s/it, acc=94.5, cost=0.00898]\n"
     ]
    },
    {
     "name": "stdout",
     "output_type": "stream",
     "text": [
      "simulation 8\n",
      "WARNING:tensorflow:<tensorflow.python.ops.rnn_cell_impl.LSTMCell object at 0x7f30abb28a90>: Using a concatenated state is slower and will soon be deprecated.  Use state_is_tuple=True.\n",
      "WARNING:tensorflow:<tensorflow.python.ops.rnn_cell_impl.LSTMCell object at 0x7f30a7ca96d8>: Using a concatenated state is slower and will soon be deprecated.  Use state_is_tuple=True.\n"
     ]
    },
    {
     "name": "stderr",
     "output_type": "stream",
     "text": [
      "/usr/local/lib/python3.6/dist-packages/tensorflow/python/client/session.py:1702: UserWarning: An interactive session is already active. This can cause out-of-memory errors in some cases. You must explicitly call `InteractiveSession.close()` to release resources held by the other session(s).\n",
      "  warnings.warn('An interactive session is already active. This can '\n",
      "train loop: 100%|██████████| 300/300 [08:56<00:00,  1.79s/it, acc=92.9, cost=0.0156]\n"
     ]
    },
    {
     "name": "stdout",
     "output_type": "stream",
     "text": [
      "simulation 9\n",
      "WARNING:tensorflow:<tensorflow.python.ops.rnn_cell_impl.LSTMCell object at 0x7f30a9640ac8>: Using a concatenated state is slower and will soon be deprecated.  Use state_is_tuple=True.\n",
      "WARNING:tensorflow:<tensorflow.python.ops.rnn_cell_impl.LSTMCell object at 0x7f30a58225f8>: Using a concatenated state is slower and will soon be deprecated.  Use state_is_tuple=True.\n"
     ]
    },
    {
     "name": "stderr",
     "output_type": "stream",
     "text": [
      "/usr/local/lib/python3.6/dist-packages/tensorflow/python/client/session.py:1702: UserWarning: An interactive session is already active. This can cause out-of-memory errors in some cases. You must explicitly call `InteractiveSession.close()` to release resources held by the other session(s).\n",
      "  warnings.warn('An interactive session is already active. This can '\n",
      "train loop: 100%|██████████| 300/300 [08:55<00:00,  1.78s/it, acc=94.6, cost=0.00856]\n"
     ]
    },
    {
     "name": "stdout",
     "output_type": "stream",
     "text": [
      "simulation 10\n",
      "WARNING:tensorflow:<tensorflow.python.ops.rnn_cell_impl.LSTMCell object at 0x7f30a71bb9e8>: Using a concatenated state is slower and will soon be deprecated.  Use state_is_tuple=True.\n",
      "WARNING:tensorflow:<tensorflow.python.ops.rnn_cell_impl.LSTMCell object at 0x7f30a338b518>: Using a concatenated state is slower and will soon be deprecated.  Use state_is_tuple=True.\n"
     ]
    },
    {
     "name": "stderr",
     "output_type": "stream",
     "text": [
      "/usr/local/lib/python3.6/dist-packages/tensorflow/python/client/session.py:1702: UserWarning: An interactive session is already active. This can cause out-of-memory errors in some cases. You must explicitly call `InteractiveSession.close()` to release resources held by the other session(s).\n",
      "  warnings.warn('An interactive session is already active. This can '\n",
      "train loop: 100%|██████████| 300/300 [09:04<00:00,  1.81s/it, acc=95.1, cost=0.00726]\n"
     ]
    }
   ],
   "source": [
    "results = []\n",
    "for i in range(simulation_size):\n",
    "    print('simulation %d'%(i + 1))\n",
    "    results.append(forecast())"
   ]
  },
  {
   "cell_type": "code",
   "execution_count": 26,
   "metadata": {
    "colab": {
     "base_uri": "https://localhost:8080/",
     "height": 338
    },
    "colab_type": "code",
    "id": "Hns3xkPPnmt1",
    "outputId": "d16f8777-42ee-42af-8c73-94730f3114df"
   },
   "outputs": [
    {
     "data": {
      "image/png": "[encoded data removed]",
      "text/plain": [
       "<Figure size 1080x360 with 1 Axes>"
      ]
     },
     "metadata": {
      "tags": []
     },
     "output_type": "display_data"
    }
   ],
   "source": [
    "\n",
    "accuracies = [calculate_accuracy(df['PX_LAST'].iloc[-test_size:].values, r) for r in results]\n",
    "\n",
    "plt.figure(figsize = (15, 5))\n",
    "for no, r in enumerate(results):\n",
    "    plt.plot(r, label = 'forecast %d'%(no + 1))\n",
    "plt.plot(df['PX_LAST'].iloc[-test_size:].values, label = 'true trend', c = 'black')\n",
    "plt.legend()\n",
    "plt.title('average accuracy: %.4f'%(np.mean(accuracies)))\n",
    "plt.show()"
   ]
  },
  {
   "cell_type": "code",
   "execution_count": 0,
   "metadata": {
    "colab": {},
    "colab_type": "code",
    "id": "80DgRUhZF4p2"
   },
   "outputs": [],
   "source": []
  }
 ],
 "metadata": {
  "colab": {
   "collapsed_sections": [],
   "name": "Welcome To Colaboratory",
   "provenance": [],
   "toc_visible": true
  },
  "kernelspec": {
   "display_name": "Python 3",
   "language": "python",
   "name": "python3"
  },
  "language_info": {
   "codemirror_mode": {
    "name": "ipython",
    "version": 3
   },
   "file_extension": ".py",
   "mimetype": "text/x-python",
   "name": "python",
   "nbconvert_exporter": "python",
   "pygments_lexer": "ipython3",
   "version": "3.7.3"
  }
 },
 "nbformat": 4,
 "nbformat_minor": 1
}
